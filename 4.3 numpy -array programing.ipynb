{
 "cells": [
  {
   "cell_type": "code",
   "execution_count": 3,
   "metadata": {},
   "outputs": [],
   "source": [
    "import numpy as np"
   ]
  },
  {
   "cell_type": "code",
   "execution_count": 4,
   "metadata": {},
   "outputs": [],
   "source": [
    "points = np.arange(-5,5,0.01) #-5부터 4.99까지 0.01씩 증가하는 값들의 배열"
   ]
  },
  {
   "cell_type": "code",
   "execution_count": 7,
   "metadata": {},
   "outputs": [
    {
     "data": {
      "text/plain": [
       "array([-5.0000000e+00, -4.9900000e+00, -4.9800000e+00, -4.9700000e+00,\n",
       "       -4.9600000e+00, -4.9500000e+00, -4.9400000e+00, -4.9300000e+00,\n",
       "       -4.9200000e+00, -4.9100000e+00, -4.9000000e+00, -4.8900000e+00,\n",
       "       -4.8800000e+00, -4.8700000e+00, -4.8600000e+00, -4.8500000e+00,\n",
       "       -4.8400000e+00, -4.8300000e+00, -4.8200000e+00, -4.8100000e+00,\n",
       "       -4.8000000e+00, -4.7900000e+00, -4.7800000e+00, -4.7700000e+00,\n",
       "       -4.7600000e+00, -4.7500000e+00, -4.7400000e+00, -4.7300000e+00,\n",
       "       -4.7200000e+00, -4.7100000e+00, -4.7000000e+00, -4.6900000e+00,\n",
       "       -4.6800000e+00, -4.6700000e+00, -4.6600000e+00, -4.6500000e+00,\n",
       "       -4.6400000e+00, -4.6300000e+00, -4.6200000e+00, -4.6100000e+00,\n",
       "       -4.6000000e+00, -4.5900000e+00, -4.5800000e+00, -4.5700000e+00,\n",
       "       -4.5600000e+00, -4.5500000e+00, -4.5400000e+00, -4.5300000e+00,\n",
       "       -4.5200000e+00, -4.5100000e+00, -4.5000000e+00, -4.4900000e+00,\n",
       "       -4.4800000e+00, -4.4700000e+00, -4.4600000e+00, -4.4500000e+00,\n",
       "       -4.4400000e+00, -4.4300000e+00, -4.4200000e+00, -4.4100000e+00,\n",
       "       -4.4000000e+00, -4.3900000e+00, -4.3800000e+00, -4.3700000e+00,\n",
       "       -4.3600000e+00, -4.3500000e+00, -4.3400000e+00, -4.3300000e+00,\n",
       "       -4.3200000e+00, -4.3100000e+00, -4.3000000e+00, -4.2900000e+00,\n",
       "       -4.2800000e+00, -4.2700000e+00, -4.2600000e+00, -4.2500000e+00,\n",
       "       -4.2400000e+00, -4.2300000e+00, -4.2200000e+00, -4.2100000e+00,\n",
       "       -4.2000000e+00, -4.1900000e+00, -4.1800000e+00, -4.1700000e+00,\n",
       "       -4.1600000e+00, -4.1500000e+00, -4.1400000e+00, -4.1300000e+00,\n",
       "       -4.1200000e+00, -4.1100000e+00, -4.1000000e+00, -4.0900000e+00,\n",
       "       -4.0800000e+00, -4.0700000e+00, -4.0600000e+00, -4.0500000e+00,\n",
       "       -4.0400000e+00, -4.0300000e+00, -4.0200000e+00, -4.0100000e+00,\n",
       "       -4.0000000e+00, -3.9900000e+00, -3.9800000e+00, -3.9700000e+00,\n",
       "       -3.9600000e+00, -3.9500000e+00, -3.9400000e+00, -3.9300000e+00,\n",
       "       -3.9200000e+00, -3.9100000e+00, -3.9000000e+00, -3.8900000e+00,\n",
       "       -3.8800000e+00, -3.8700000e+00, -3.8600000e+00, -3.8500000e+00,\n",
       "       -3.8400000e+00, -3.8300000e+00, -3.8200000e+00, -3.8100000e+00,\n",
       "       -3.8000000e+00, -3.7900000e+00, -3.7800000e+00, -3.7700000e+00,\n",
       "       -3.7600000e+00, -3.7500000e+00, -3.7400000e+00, -3.7300000e+00,\n",
       "       -3.7200000e+00, -3.7100000e+00, -3.7000000e+00, -3.6900000e+00,\n",
       "       -3.6800000e+00, -3.6700000e+00, -3.6600000e+00, -3.6500000e+00,\n",
       "       -3.6400000e+00, -3.6300000e+00, -3.6200000e+00, -3.6100000e+00,\n",
       "       -3.6000000e+00, -3.5900000e+00, -3.5800000e+00, -3.5700000e+00,\n",
       "       -3.5600000e+00, -3.5500000e+00, -3.5400000e+00, -3.5300000e+00,\n",
       "       -3.5200000e+00, -3.5100000e+00, -3.5000000e+00, -3.4900000e+00,\n",
       "       -3.4800000e+00, -3.4700000e+00, -3.4600000e+00, -3.4500000e+00,\n",
       "       -3.4400000e+00, -3.4300000e+00, -3.4200000e+00, -3.4100000e+00,\n",
       "       -3.4000000e+00, -3.3900000e+00, -3.3800000e+00, -3.3700000e+00,\n",
       "       -3.3600000e+00, -3.3500000e+00, -3.3400000e+00, -3.3300000e+00,\n",
       "       -3.3200000e+00, -3.3100000e+00, -3.3000000e+00, -3.2900000e+00,\n",
       "       -3.2800000e+00, -3.2700000e+00, -3.2600000e+00, -3.2500000e+00,\n",
       "       -3.2400000e+00, -3.2300000e+00, -3.2200000e+00, -3.2100000e+00,\n",
       "       -3.2000000e+00, -3.1900000e+00, -3.1800000e+00, -3.1700000e+00,\n",
       "       -3.1600000e+00, -3.1500000e+00, -3.1400000e+00, -3.1300000e+00,\n",
       "       -3.1200000e+00, -3.1100000e+00, -3.1000000e+00, -3.0900000e+00,\n",
       "       -3.0800000e+00, -3.0700000e+00, -3.0600000e+00, -3.0500000e+00,\n",
       "       -3.0400000e+00, -3.0300000e+00, -3.0200000e+00, -3.0100000e+00,\n",
       "       -3.0000000e+00, -2.9900000e+00, -2.9800000e+00, -2.9700000e+00,\n",
       "       -2.9600000e+00, -2.9500000e+00, -2.9400000e+00, -2.9300000e+00,\n",
       "       -2.9200000e+00, -2.9100000e+00, -2.9000000e+00, -2.8900000e+00,\n",
       "       -2.8800000e+00, -2.8700000e+00, -2.8600000e+00, -2.8500000e+00,\n",
       "       -2.8400000e+00, -2.8300000e+00, -2.8200000e+00, -2.8100000e+00,\n",
       "       -2.8000000e+00, -2.7900000e+00, -2.7800000e+00, -2.7700000e+00,\n",
       "       -2.7600000e+00, -2.7500000e+00, -2.7400000e+00, -2.7300000e+00,\n",
       "       -2.7200000e+00, -2.7100000e+00, -2.7000000e+00, -2.6900000e+00,\n",
       "       -2.6800000e+00, -2.6700000e+00, -2.6600000e+00, -2.6500000e+00,\n",
       "       -2.6400000e+00, -2.6300000e+00, -2.6200000e+00, -2.6100000e+00,\n",
       "       -2.6000000e+00, -2.5900000e+00, -2.5800000e+00, -2.5700000e+00,\n",
       "       -2.5600000e+00, -2.5500000e+00, -2.5400000e+00, -2.5300000e+00,\n",
       "       -2.5200000e+00, -2.5100000e+00, -2.5000000e+00, -2.4900000e+00,\n",
       "       -2.4800000e+00, -2.4700000e+00, -2.4600000e+00, -2.4500000e+00,\n",
       "       -2.4400000e+00, -2.4300000e+00, -2.4200000e+00, -2.4100000e+00,\n",
       "       -2.4000000e+00, -2.3900000e+00, -2.3800000e+00, -2.3700000e+00,\n",
       "       -2.3600000e+00, -2.3500000e+00, -2.3400000e+00, -2.3300000e+00,\n",
       "       -2.3200000e+00, -2.3100000e+00, -2.3000000e+00, -2.2900000e+00,\n",
       "       -2.2800000e+00, -2.2700000e+00, -2.2600000e+00, -2.2500000e+00,\n",
       "       -2.2400000e+00, -2.2300000e+00, -2.2200000e+00, -2.2100000e+00,\n",
       "       -2.2000000e+00, -2.1900000e+00, -2.1800000e+00, -2.1700000e+00,\n",
       "       -2.1600000e+00, -2.1500000e+00, -2.1400000e+00, -2.1300000e+00,\n",
       "       -2.1200000e+00, -2.1100000e+00, -2.1000000e+00, -2.0900000e+00,\n",
       "       -2.0800000e+00, -2.0700000e+00, -2.0600000e+00, -2.0500000e+00,\n",
       "       -2.0400000e+00, -2.0300000e+00, -2.0200000e+00, -2.0100000e+00,\n",
       "       -2.0000000e+00, -1.9900000e+00, -1.9800000e+00, -1.9700000e+00,\n",
       "       -1.9600000e+00, -1.9500000e+00, -1.9400000e+00, -1.9300000e+00,\n",
       "       -1.9200000e+00, -1.9100000e+00, -1.9000000e+00, -1.8900000e+00,\n",
       "       -1.8800000e+00, -1.8700000e+00, -1.8600000e+00, -1.8500000e+00,\n",
       "       -1.8400000e+00, -1.8300000e+00, -1.8200000e+00, -1.8100000e+00,\n",
       "       -1.8000000e+00, -1.7900000e+00, -1.7800000e+00, -1.7700000e+00,\n",
       "       -1.7600000e+00, -1.7500000e+00, -1.7400000e+00, -1.7300000e+00,\n",
       "       -1.7200000e+00, -1.7100000e+00, -1.7000000e+00, -1.6900000e+00,\n",
       "       -1.6800000e+00, -1.6700000e+00, -1.6600000e+00, -1.6500000e+00,\n",
       "       -1.6400000e+00, -1.6300000e+00, -1.6200000e+00, -1.6100000e+00,\n",
       "       -1.6000000e+00, -1.5900000e+00, -1.5800000e+00, -1.5700000e+00,\n",
       "       -1.5600000e+00, -1.5500000e+00, -1.5400000e+00, -1.5300000e+00,\n",
       "       -1.5200000e+00, -1.5100000e+00, -1.5000000e+00, -1.4900000e+00,\n",
       "       -1.4800000e+00, -1.4700000e+00, -1.4600000e+00, -1.4500000e+00,\n",
       "       -1.4400000e+00, -1.4300000e+00, -1.4200000e+00, -1.4100000e+00,\n",
       "       -1.4000000e+00, -1.3900000e+00, -1.3800000e+00, -1.3700000e+00,\n",
       "       -1.3600000e+00, -1.3500000e+00, -1.3400000e+00, -1.3300000e+00,\n",
       "       -1.3200000e+00, -1.3100000e+00, -1.3000000e+00, -1.2900000e+00,\n",
       "       -1.2800000e+00, -1.2700000e+00, -1.2600000e+00, -1.2500000e+00,\n",
       "       -1.2400000e+00, -1.2300000e+00, -1.2200000e+00, -1.2100000e+00,\n",
       "       -1.2000000e+00, -1.1900000e+00, -1.1800000e+00, -1.1700000e+00,\n",
       "       -1.1600000e+00, -1.1500000e+00, -1.1400000e+00, -1.1300000e+00,\n",
       "       -1.1200000e+00, -1.1100000e+00, -1.1000000e+00, -1.0900000e+00,\n",
       "       -1.0800000e+00, -1.0700000e+00, -1.0600000e+00, -1.0500000e+00,\n",
       "       -1.0400000e+00, -1.0300000e+00, -1.0200000e+00, -1.0100000e+00,\n",
       "       -1.0000000e+00, -9.9000000e-01, -9.8000000e-01, -9.7000000e-01,\n",
       "       -9.6000000e-01, -9.5000000e-01, -9.4000000e-01, -9.3000000e-01,\n",
       "       -9.2000000e-01, -9.1000000e-01, -9.0000000e-01, -8.9000000e-01,\n",
       "       -8.8000000e-01, -8.7000000e-01, -8.6000000e-01, -8.5000000e-01,\n",
       "       -8.4000000e-01, -8.3000000e-01, -8.2000000e-01, -8.1000000e-01,\n",
       "       -8.0000000e-01, -7.9000000e-01, -7.8000000e-01, -7.7000000e-01,\n",
       "       -7.6000000e-01, -7.5000000e-01, -7.4000000e-01, -7.3000000e-01,\n",
       "       -7.2000000e-01, -7.1000000e-01, -7.0000000e-01, -6.9000000e-01,\n",
       "       -6.8000000e-01, -6.7000000e-01, -6.6000000e-01, -6.5000000e-01,\n",
       "       -6.4000000e-01, -6.3000000e-01, -6.2000000e-01, -6.1000000e-01,\n",
       "       -6.0000000e-01, -5.9000000e-01, -5.8000000e-01, -5.7000000e-01,\n",
       "       -5.6000000e-01, -5.5000000e-01, -5.4000000e-01, -5.3000000e-01,\n",
       "       -5.2000000e-01, -5.1000000e-01, -5.0000000e-01, -4.9000000e-01,\n",
       "       -4.8000000e-01, -4.7000000e-01, -4.6000000e-01, -4.5000000e-01,\n",
       "       -4.4000000e-01, -4.3000000e-01, -4.2000000e-01, -4.1000000e-01,\n",
       "       -4.0000000e-01, -3.9000000e-01, -3.8000000e-01, -3.7000000e-01,\n",
       "       -3.6000000e-01, -3.5000000e-01, -3.4000000e-01, -3.3000000e-01,\n",
       "       -3.2000000e-01, -3.1000000e-01, -3.0000000e-01, -2.9000000e-01,\n",
       "       -2.8000000e-01, -2.7000000e-01, -2.6000000e-01, -2.5000000e-01,\n",
       "       -2.4000000e-01, -2.3000000e-01, -2.2000000e-01, -2.1000000e-01,\n",
       "       -2.0000000e-01, -1.9000000e-01, -1.8000000e-01, -1.7000000e-01,\n",
       "       -1.6000000e-01, -1.5000000e-01, -1.4000000e-01, -1.3000000e-01,\n",
       "       -1.2000000e-01, -1.1000000e-01, -1.0000000e-01, -9.0000000e-02,\n",
       "       -8.0000000e-02, -7.0000000e-02, -6.0000000e-02, -5.0000000e-02,\n",
       "       -4.0000000e-02, -3.0000000e-02, -2.0000000e-02, -1.0000000e-02,\n",
       "       -1.0658141e-13,  1.0000000e-02,  2.0000000e-02,  3.0000000e-02,\n",
       "        4.0000000e-02,  5.0000000e-02,  6.0000000e-02,  7.0000000e-02,\n",
       "        8.0000000e-02,  9.0000000e-02,  1.0000000e-01,  1.1000000e-01,\n",
       "        1.2000000e-01,  1.3000000e-01,  1.4000000e-01,  1.5000000e-01,\n",
       "        1.6000000e-01,  1.7000000e-01,  1.8000000e-01,  1.9000000e-01,\n",
       "        2.0000000e-01,  2.1000000e-01,  2.2000000e-01,  2.3000000e-01,\n",
       "        2.4000000e-01,  2.5000000e-01,  2.6000000e-01,  2.7000000e-01,\n",
       "        2.8000000e-01,  2.9000000e-01,  3.0000000e-01,  3.1000000e-01,\n",
       "        3.2000000e-01,  3.3000000e-01,  3.4000000e-01,  3.5000000e-01,\n",
       "        3.6000000e-01,  3.7000000e-01,  3.8000000e-01,  3.9000000e-01,\n",
       "        4.0000000e-01,  4.1000000e-01,  4.2000000e-01,  4.3000000e-01,\n",
       "        4.4000000e-01,  4.5000000e-01,  4.6000000e-01,  4.7000000e-01,\n",
       "        4.8000000e-01,  4.9000000e-01,  5.0000000e-01,  5.1000000e-01,\n",
       "        5.2000000e-01,  5.3000000e-01,  5.4000000e-01,  5.5000000e-01,\n",
       "        5.6000000e-01,  5.7000000e-01,  5.8000000e-01,  5.9000000e-01,\n",
       "        6.0000000e-01,  6.1000000e-01,  6.2000000e-01,  6.3000000e-01,\n",
       "        6.4000000e-01,  6.5000000e-01,  6.6000000e-01,  6.7000000e-01,\n",
       "        6.8000000e-01,  6.9000000e-01,  7.0000000e-01,  7.1000000e-01,\n",
       "        7.2000000e-01,  7.3000000e-01,  7.4000000e-01,  7.5000000e-01,\n",
       "        7.6000000e-01,  7.7000000e-01,  7.8000000e-01,  7.9000000e-01,\n",
       "        8.0000000e-01,  8.1000000e-01,  8.2000000e-01,  8.3000000e-01,\n",
       "        8.4000000e-01,  8.5000000e-01,  8.6000000e-01,  8.7000000e-01,\n",
       "        8.8000000e-01,  8.9000000e-01,  9.0000000e-01,  9.1000000e-01,\n",
       "        9.2000000e-01,  9.3000000e-01,  9.4000000e-01,  9.5000000e-01,\n",
       "        9.6000000e-01,  9.7000000e-01,  9.8000000e-01,  9.9000000e-01,\n",
       "        1.0000000e+00,  1.0100000e+00,  1.0200000e+00,  1.0300000e+00,\n",
       "        1.0400000e+00,  1.0500000e+00,  1.0600000e+00,  1.0700000e+00,\n",
       "        1.0800000e+00,  1.0900000e+00,  1.1000000e+00,  1.1100000e+00,\n",
       "        1.1200000e+00,  1.1300000e+00,  1.1400000e+00,  1.1500000e+00,\n",
       "        1.1600000e+00,  1.1700000e+00,  1.1800000e+00,  1.1900000e+00,\n",
       "        1.2000000e+00,  1.2100000e+00,  1.2200000e+00,  1.2300000e+00,\n",
       "        1.2400000e+00,  1.2500000e+00,  1.2600000e+00,  1.2700000e+00,\n",
       "        1.2800000e+00,  1.2900000e+00,  1.3000000e+00,  1.3100000e+00,\n",
       "        1.3200000e+00,  1.3300000e+00,  1.3400000e+00,  1.3500000e+00,\n",
       "        1.3600000e+00,  1.3700000e+00,  1.3800000e+00,  1.3900000e+00,\n",
       "        1.4000000e+00,  1.4100000e+00,  1.4200000e+00,  1.4300000e+00,\n",
       "        1.4400000e+00,  1.4500000e+00,  1.4600000e+00,  1.4700000e+00,\n",
       "        1.4800000e+00,  1.4900000e+00,  1.5000000e+00,  1.5100000e+00,\n",
       "        1.5200000e+00,  1.5300000e+00,  1.5400000e+00,  1.5500000e+00,\n",
       "        1.5600000e+00,  1.5700000e+00,  1.5800000e+00,  1.5900000e+00,\n",
       "        1.6000000e+00,  1.6100000e+00,  1.6200000e+00,  1.6300000e+00,\n",
       "        1.6400000e+00,  1.6500000e+00,  1.6600000e+00,  1.6700000e+00,\n",
       "        1.6800000e+00,  1.6900000e+00,  1.7000000e+00,  1.7100000e+00,\n",
       "        1.7200000e+00,  1.7300000e+00,  1.7400000e+00,  1.7500000e+00,\n",
       "        1.7600000e+00,  1.7700000e+00,  1.7800000e+00,  1.7900000e+00,\n",
       "        1.8000000e+00,  1.8100000e+00,  1.8200000e+00,  1.8300000e+00,\n",
       "        1.8400000e+00,  1.8500000e+00,  1.8600000e+00,  1.8700000e+00,\n",
       "        1.8800000e+00,  1.8900000e+00,  1.9000000e+00,  1.9100000e+00,\n",
       "        1.9200000e+00,  1.9300000e+00,  1.9400000e+00,  1.9500000e+00,\n",
       "        1.9600000e+00,  1.9700000e+00,  1.9800000e+00,  1.9900000e+00,\n",
       "        2.0000000e+00,  2.0100000e+00,  2.0200000e+00,  2.0300000e+00,\n",
       "        2.0400000e+00,  2.0500000e+00,  2.0600000e+00,  2.0700000e+00,\n",
       "        2.0800000e+00,  2.0900000e+00,  2.1000000e+00,  2.1100000e+00,\n",
       "        2.1200000e+00,  2.1300000e+00,  2.1400000e+00,  2.1500000e+00,\n",
       "        2.1600000e+00,  2.1700000e+00,  2.1800000e+00,  2.1900000e+00,\n",
       "        2.2000000e+00,  2.2100000e+00,  2.2200000e+00,  2.2300000e+00,\n",
       "        2.2400000e+00,  2.2500000e+00,  2.2600000e+00,  2.2700000e+00,\n",
       "        2.2800000e+00,  2.2900000e+00,  2.3000000e+00,  2.3100000e+00,\n",
       "        2.3200000e+00,  2.3300000e+00,  2.3400000e+00,  2.3500000e+00,\n",
       "        2.3600000e+00,  2.3700000e+00,  2.3800000e+00,  2.3900000e+00,\n",
       "        2.4000000e+00,  2.4100000e+00,  2.4200000e+00,  2.4300000e+00,\n",
       "        2.4400000e+00,  2.4500000e+00,  2.4600000e+00,  2.4700000e+00,\n",
       "        2.4800000e+00,  2.4900000e+00,  2.5000000e+00,  2.5100000e+00,\n",
       "        2.5200000e+00,  2.5300000e+00,  2.5400000e+00,  2.5500000e+00,\n",
       "        2.5600000e+00,  2.5700000e+00,  2.5800000e+00,  2.5900000e+00,\n",
       "        2.6000000e+00,  2.6100000e+00,  2.6200000e+00,  2.6300000e+00,\n",
       "        2.6400000e+00,  2.6500000e+00,  2.6600000e+00,  2.6700000e+00,\n",
       "        2.6800000e+00,  2.6900000e+00,  2.7000000e+00,  2.7100000e+00,\n",
       "        2.7200000e+00,  2.7300000e+00,  2.7400000e+00,  2.7500000e+00,\n",
       "        2.7600000e+00,  2.7700000e+00,  2.7800000e+00,  2.7900000e+00,\n",
       "        2.8000000e+00,  2.8100000e+00,  2.8200000e+00,  2.8300000e+00,\n",
       "        2.8400000e+00,  2.8500000e+00,  2.8600000e+00,  2.8700000e+00,\n",
       "        2.8800000e+00,  2.8900000e+00,  2.9000000e+00,  2.9100000e+00,\n",
       "        2.9200000e+00,  2.9300000e+00,  2.9400000e+00,  2.9500000e+00,\n",
       "        2.9600000e+00,  2.9700000e+00,  2.9800000e+00,  2.9900000e+00,\n",
       "        3.0000000e+00,  3.0100000e+00,  3.0200000e+00,  3.0300000e+00,\n",
       "        3.0400000e+00,  3.0500000e+00,  3.0600000e+00,  3.0700000e+00,\n",
       "        3.0800000e+00,  3.0900000e+00,  3.1000000e+00,  3.1100000e+00,\n",
       "        3.1200000e+00,  3.1300000e+00,  3.1400000e+00,  3.1500000e+00,\n",
       "        3.1600000e+00,  3.1700000e+00,  3.1800000e+00,  3.1900000e+00,\n",
       "        3.2000000e+00,  3.2100000e+00,  3.2200000e+00,  3.2300000e+00,\n",
       "        3.2400000e+00,  3.2500000e+00,  3.2600000e+00,  3.2700000e+00,\n",
       "        3.2800000e+00,  3.2900000e+00,  3.3000000e+00,  3.3100000e+00,\n",
       "        3.3200000e+00,  3.3300000e+00,  3.3400000e+00,  3.3500000e+00,\n",
       "        3.3600000e+00,  3.3700000e+00,  3.3800000e+00,  3.3900000e+00,\n",
       "        3.4000000e+00,  3.4100000e+00,  3.4200000e+00,  3.4300000e+00,\n",
       "        3.4400000e+00,  3.4500000e+00,  3.4600000e+00,  3.4700000e+00,\n",
       "        3.4800000e+00,  3.4900000e+00,  3.5000000e+00,  3.5100000e+00,\n",
       "        3.5200000e+00,  3.5300000e+00,  3.5400000e+00,  3.5500000e+00,\n",
       "        3.5600000e+00,  3.5700000e+00,  3.5800000e+00,  3.5900000e+00,\n",
       "        3.6000000e+00,  3.6100000e+00,  3.6200000e+00,  3.6300000e+00,\n",
       "        3.6400000e+00,  3.6500000e+00,  3.6600000e+00,  3.6700000e+00,\n",
       "        3.6800000e+00,  3.6900000e+00,  3.7000000e+00,  3.7100000e+00,\n",
       "        3.7200000e+00,  3.7300000e+00,  3.7400000e+00,  3.7500000e+00,\n",
       "        3.7600000e+00,  3.7700000e+00,  3.7800000e+00,  3.7900000e+00,\n",
       "        3.8000000e+00,  3.8100000e+00,  3.8200000e+00,  3.8300000e+00,\n",
       "        3.8400000e+00,  3.8500000e+00,  3.8600000e+00,  3.8700000e+00,\n",
       "        3.8800000e+00,  3.8900000e+00,  3.9000000e+00,  3.9100000e+00,\n",
       "        3.9200000e+00,  3.9300000e+00,  3.9400000e+00,  3.9500000e+00,\n",
       "        3.9600000e+00,  3.9700000e+00,  3.9800000e+00,  3.9900000e+00,\n",
       "        4.0000000e+00,  4.0100000e+00,  4.0200000e+00,  4.0300000e+00,\n",
       "        4.0400000e+00,  4.0500000e+00,  4.0600000e+00,  4.0700000e+00,\n",
       "        4.0800000e+00,  4.0900000e+00,  4.1000000e+00,  4.1100000e+00,\n",
       "        4.1200000e+00,  4.1300000e+00,  4.1400000e+00,  4.1500000e+00,\n",
       "        4.1600000e+00,  4.1700000e+00,  4.1800000e+00,  4.1900000e+00,\n",
       "        4.2000000e+00,  4.2100000e+00,  4.2200000e+00,  4.2300000e+00,\n",
       "        4.2400000e+00,  4.2500000e+00,  4.2600000e+00,  4.2700000e+00,\n",
       "        4.2800000e+00,  4.2900000e+00,  4.3000000e+00,  4.3100000e+00,\n",
       "        4.3200000e+00,  4.3300000e+00,  4.3400000e+00,  4.3500000e+00,\n",
       "        4.3600000e+00,  4.3700000e+00,  4.3800000e+00,  4.3900000e+00,\n",
       "        4.4000000e+00,  4.4100000e+00,  4.4200000e+00,  4.4300000e+00,\n",
       "        4.4400000e+00,  4.4500000e+00,  4.4600000e+00,  4.4700000e+00,\n",
       "        4.4800000e+00,  4.4900000e+00,  4.5000000e+00,  4.5100000e+00,\n",
       "        4.5200000e+00,  4.5300000e+00,  4.5400000e+00,  4.5500000e+00,\n",
       "        4.5600000e+00,  4.5700000e+00,  4.5800000e+00,  4.5900000e+00,\n",
       "        4.6000000e+00,  4.6100000e+00,  4.6200000e+00,  4.6300000e+00,\n",
       "        4.6400000e+00,  4.6500000e+00,  4.6600000e+00,  4.6700000e+00,\n",
       "        4.6800000e+00,  4.6900000e+00,  4.7000000e+00,  4.7100000e+00,\n",
       "        4.7200000e+00,  4.7300000e+00,  4.7400000e+00,  4.7500000e+00,\n",
       "        4.7600000e+00,  4.7700000e+00,  4.7800000e+00,  4.7900000e+00,\n",
       "        4.8000000e+00,  4.8100000e+00,  4.8200000e+00,  4.8300000e+00,\n",
       "        4.8400000e+00,  4.8500000e+00,  4.8600000e+00,  4.8700000e+00,\n",
       "        4.8800000e+00,  4.8900000e+00,  4.9000000e+00,  4.9100000e+00,\n",
       "        4.9200000e+00,  4.9300000e+00,  4.9400000e+00,  4.9500000e+00,\n",
       "        4.9600000e+00,  4.9700000e+00,  4.9800000e+00,  4.9900000e+00])"
      ]
     },
     "execution_count": 7,
     "metadata": {},
     "output_type": "execute_result"
    }
   ],
   "source": [
    "points"
   ]
  },
  {
   "cell_type": "markdown",
   "metadata": {},
   "source": [
    "xs,ys =np.meshgrid(points,points)"
   ]
  },
  {
   "cell_type": "markdown",
   "metadata": {},
   "source": [
    "np.meshgrid 함수는 두 개의 1차원 배열을 받아서 가능한 모든(x,y) 짝을 만들 수 있는 2차원 배열 2개를 반환한다"
   ]
  },
  {
   "cell_type": "code",
   "execution_count": 6,
   "metadata": {},
   "outputs": [
    {
     "data": {
      "text/plain": [
       "array([[-5.  , -5.  , -5.  , ..., -5.  , -5.  , -5.  ],\n",
       "       [-4.99, -4.99, -4.99, ..., -4.99, -4.99, -4.99],\n",
       "       [-4.98, -4.98, -4.98, ..., -4.98, -4.98, -4.98],\n",
       "       ...,\n",
       "       [ 4.97,  4.97,  4.97, ...,  4.97,  4.97,  4.97],\n",
       "       [ 4.98,  4.98,  4.98, ...,  4.98,  4.98,  4.98],\n",
       "       [ 4.99,  4.99,  4.99, ...,  4.99,  4.99,  4.99]])"
      ]
     },
     "execution_count": 6,
     "metadata": {},
     "output_type": "execute_result"
    }
   ],
   "source": [
    "ys"
   ]
  },
  {
   "cell_type": "code",
   "execution_count": 8,
   "metadata": {},
   "outputs": [
    {
     "data": {
      "text/plain": [
       "array([[-5.  , -4.99, -4.98, ...,  4.97,  4.98,  4.99],\n",
       "       [-5.  , -4.99, -4.98, ...,  4.97,  4.98,  4.99],\n",
       "       [-5.  , -4.99, -4.98, ...,  4.97,  4.98,  4.99],\n",
       "       ...,\n",
       "       [-5.  , -4.99, -4.98, ...,  4.97,  4.98,  4.99],\n",
       "       [-5.  , -4.99, -4.98, ...,  4.97,  4.98,  4.99],\n",
       "       [-5.  , -4.99, -4.98, ...,  4.97,  4.98,  4.99]])"
      ]
     },
     "execution_count": 8,
     "metadata": {},
     "output_type": "execute_result"
    }
   ],
   "source": [
    "xs"
   ]
  },
  {
   "cell_type": "code",
   "execution_count": 9,
   "metadata": {},
   "outputs": [],
   "source": [
    "z = np.sqrt(xs**2 + ys**2)"
   ]
  },
  {
   "cell_type": "code",
   "execution_count": 10,
   "metadata": {},
   "outputs": [
    {
     "data": {
      "text/plain": [
       "array([[7.07106781, 7.06400028, 7.05693985, ..., 7.04988652, 7.05693985,\n",
       "        7.06400028],\n",
       "       [7.06400028, 7.05692568, 7.04985815, ..., 7.04279774, 7.04985815,\n",
       "        7.05692568],\n",
       "       [7.05693985, 7.04985815, 7.04278354, ..., 7.03571603, 7.04278354,\n",
       "        7.04985815],\n",
       "       ...,\n",
       "       [7.04988652, 7.04279774, 7.03571603, ..., 7.0286414 , 7.03571603,\n",
       "        7.04279774],\n",
       "       [7.05693985, 7.04985815, 7.04278354, ..., 7.03571603, 7.04278354,\n",
       "        7.04985815],\n",
       "       [7.06400028, 7.05692568, 7.04985815, ..., 7.04279774, 7.04985815,\n",
       "        7.05692568]])"
      ]
     },
     "execution_count": 10,
     "metadata": {},
     "output_type": "execute_result"
    }
   ],
   "source": [
    "z"
   ]
  },
  {
   "cell_type": "code",
   "execution_count": 11,
   "metadata": {},
   "outputs": [],
   "source": [
    "import matplotlib.pyplot as plt"
   ]
  },
  {
   "cell_type": "code",
   "execution_count": 12,
   "metadata": {},
   "outputs": [
    {
     "data": {
      "text/plain": [
       "<matplotlib.colorbar.Colorbar at 0x1204e7050>"
      ]
     },
     "execution_count": 12,
     "metadata": {},
     "output_type": "execute_result"
    },
    {
     "data": {
      "image/png": "[encoded data removed]",
      "text/plain": [
       "<Figure size 432x288 with 2 Axes>"
      ]
     },
     "metadata": {
      "needs_background": "light"
     },
     "output_type": "display_data"
    }
   ],
   "source": [
    "plt.imshow(z,cmap=plt.cm.gray); plt.colorbar()"
   ]
  },
  {
   "cell_type": "code",
   "execution_count": 13,
   "metadata": {},
   "outputs": [
    {
     "data": {
      "text/plain": [
       "Text(0.5, 1.0, 'Image plot of $\\\\sqrt{x^2 + y^2}$ for a grid of values')"
      ]
     },
     "execution_count": 13,
     "metadata": {},
     "output_type": "execute_result"
    },
    {
     "data": {
      "image/png": "[encoded data removed]",
      "text/plain": [
       "<Figure size 432x288 with 1 Axes>"
      ]
     },
     "metadata": {
      "needs_background": "light"
     },
     "output_type": "display_data"
    }
   ],
   "source": [
    "plt.title('Image plot of $\\sqrt{x^2 + y^2}$ for a grid of values')"
   ]
  },
  {
   "cell_type": "code",
   "execution_count": 14,
   "metadata": {},
   "outputs": [],
   "source": [
    "xarr = np.array([1.1,1.2,1.3,1.4,1.5])"
   ]
  },
  {
   "cell_type": "code",
   "execution_count": 15,
   "metadata": {},
   "outputs": [],
   "source": [
    "yarr = np.array([2.1,2.2,2.3,2.4,2.5])"
   ]
  },
  {
   "cell_type": "code",
   "execution_count": 16,
   "metadata": {},
   "outputs": [],
   "source": [
    "cond = np.array([True,False,True,True,False])"
   ]
  },
  {
   "cell_type": "code",
   "execution_count": 17,
   "metadata": {},
   "outputs": [],
   "source": [
    "result = [(x if c else y)\n",
    "         for x,y,c in zip(xarr,yarr,cond)]"
   ]
  },
  {
   "cell_type": "code",
   "execution_count": 18,
   "metadata": {},
   "outputs": [
    {
     "data": {
      "text/plain": [
       "[1.1, 2.2, 1.3, 1.4, 2.5]"
      ]
     },
     "execution_count": 18,
     "metadata": {},
     "output_type": "execute_result"
    }
   ],
   "source": [
    "result"
   ]
  },
  {
   "cell_type": "code",
   "execution_count": 20,
   "metadata": {},
   "outputs": [],
   "source": [
    "result = np.where(cond,xarr,yarr)"
   ]
  },
  {
   "cell_type": "code",
   "execution_count": 21,
   "metadata": {},
   "outputs": [
    {
     "data": {
      "text/plain": [
       "array([1.1, 2.2, 1.3, 1.4, 2.5])"
      ]
     },
     "execution_count": 21,
     "metadata": {},
     "output_type": "execute_result"
    }
   ],
   "source": [
    "result"
   ]
  },
  {
   "cell_type": "code",
   "execution_count": 22,
   "metadata": {},
   "outputs": [],
   "source": [
    "arr = np.random.randn(4,4)"
   ]
  },
  {
   "cell_type": "code",
   "execution_count": 23,
   "metadata": {},
   "outputs": [
    {
     "data": {
      "text/plain": [
       "array([[-0.03094953,  0.93457316, -0.25997303, -0.57416054],\n",
       "       [ 0.52174779,  0.73156942,  0.05038501, -0.23960478],\n",
       "       [-0.22760141,  0.43317081, -2.36322328, -1.88104745],\n",
       "       [ 0.115137  , -1.40114409, -1.04205152, -0.43558632]])"
      ]
     },
     "execution_count": 23,
     "metadata": {},
     "output_type": "execute_result"
    }
   ],
   "source": [
    "arr"
   ]
  },
  {
   "cell_type": "code",
   "execution_count": 24,
   "metadata": {},
   "outputs": [
    {
     "data": {
      "text/plain": [
       "array([[False,  True, False, False],\n",
       "       [ True,  True,  True, False],\n",
       "       [False,  True, False, False],\n",
       "       [ True, False, False, False]])"
      ]
     },
     "execution_count": 24,
     "metadata": {},
     "output_type": "execute_result"
    }
   ],
   "source": [
    "arr >0"
   ]
  },
  {
   "cell_type": "code",
   "execution_count": 25,
   "metadata": {},
   "outputs": [
    {
     "data": {
      "text/plain": [
       "array([[-0.03094953,  0.93457316, -0.25997303, -0.57416054],\n",
       "       [ 0.52174779,  0.73156942,  0.05038501, -0.23960478],\n",
       "       [-0.22760141,  0.43317081, -2.36322328, -1.88104745],\n",
       "       [ 0.115137  , -1.40114409, -1.04205152, -0.43558632]])"
      ]
     },
     "execution_count": 25,
     "metadata": {},
     "output_type": "execute_result"
    }
   ],
   "source": [
    "arr"
   ]
  },
  {
   "cell_type": "code",
   "execution_count": 26,
   "metadata": {},
   "outputs": [
    {
     "data": {
      "text/plain": [
       "array([[-2,  2, -2, -2],\n",
       "       [ 2,  2,  2, -2],\n",
       "       [-2,  2, -2, -2],\n",
       "       [ 2, -2, -2, -2]])"
      ]
     },
     "execution_count": 26,
     "metadata": {},
     "output_type": "execute_result"
    }
   ],
   "source": [
    "np.where(arr>0,2,-2)"
   ]
  },
  {
   "cell_type": "markdown",
   "metadata": {},
   "source": [
    "np.where(조건절,True일때 실행할값, False일떄 실행할값)"
   ]
  },
  {
   "cell_type": "code",
   "execution_count": 28,
   "metadata": {},
   "outputs": [
    {
     "data": {
      "text/plain": [
       "array([[-0.03094953,  2.        , -0.25997303, -0.57416054],\n",
       "       [ 2.        ,  2.        ,  2.        , -0.23960478],\n",
       "       [-0.22760141,  2.        , -2.36322328, -1.88104745],\n",
       "       [ 2.        , -1.40114409, -1.04205152, -0.43558632]])"
      ]
     },
     "execution_count": 28,
     "metadata": {},
     "output_type": "execute_result"
    }
   ],
   "source": [
    "np.where(arr>0,2,arr)"
   ]
  },
  {
   "cell_type": "code",
   "execution_count": 29,
   "metadata": {},
   "outputs": [],
   "source": [
    "arr = np.random.randn(5,4)"
   ]
  },
  {
   "cell_type": "code",
   "execution_count": 30,
   "metadata": {},
   "outputs": [
    {
     "data": {
      "text/plain": [
       "array([[-1.84676926, -1.36661949,  0.31728405, -0.6144014 ],\n",
       "       [-1.59340588,  0.79926943, -0.49557444,  0.50507465],\n",
       "       [ 0.80380466,  0.9823954 , -1.67181881,  1.10659722],\n",
       "       [-0.28068814,  2.24439267,  0.08090354,  0.3230411 ],\n",
       "       [-1.21024929, -0.90048012, -1.13849812, -0.44050354]])"
      ]
     },
     "execution_count": 30,
     "metadata": {},
     "output_type": "execute_result"
    }
   ],
   "source": [
    "arr"
   ]
  },
  {
   "cell_type": "code",
   "execution_count": 31,
   "metadata": {},
   "outputs": [
    {
     "data": {
      "text/plain": [
       "-0.21981228913407613"
      ]
     },
     "execution_count": 31,
     "metadata": {},
     "output_type": "execute_result"
    }
   ],
   "source": [
    "arr.mean()"
   ]
  },
  {
   "cell_type": "code",
   "execution_count": 33,
   "metadata": {},
   "outputs": [
    {
     "data": {
      "text/plain": [
       "-0.21981228913407613"
      ]
     },
     "execution_count": 33,
     "metadata": {},
     "output_type": "execute_result"
    }
   ],
   "source": [
    "np.mean(arr)"
   ]
  },
  {
   "cell_type": "code",
   "execution_count": 34,
   "metadata": {},
   "outputs": [
    {
     "data": {
      "text/plain": [
       "-4.396245782681523"
      ]
     },
     "execution_count": 34,
     "metadata": {},
     "output_type": "execute_result"
    }
   ],
   "source": [
    "arr.sum()"
   ]
  },
  {
   "cell_type": "code",
   "execution_count": 35,
   "metadata": {},
   "outputs": [
    {
     "data": {
      "text/plain": [
       "array([-0.87762653, -0.19615906,  0.30524462,  0.59191229, -0.92243277])"
      ]
     },
     "execution_count": 35,
     "metadata": {},
     "output_type": "execute_result"
    }
   ],
   "source": [
    "arr.mean(1)"
   ]
  },
  {
   "cell_type": "code",
   "execution_count": 36,
   "metadata": {},
   "outputs": [
    {
     "data": {
      "text/plain": [
       "array([-3.5105061 , -0.78463626,  1.22097847,  2.36764917, -3.68973107])"
      ]
     },
     "execution_count": 36,
     "metadata": {},
     "output_type": "execute_result"
    }
   ],
   "source": [
    "arr.sum(1)"
   ]
  },
  {
   "cell_type": "code",
   "execution_count": 37,
   "metadata": {},
   "outputs": [
    {
     "data": {
      "text/plain": [
       "array([-0.82546158,  0.35179158, -0.58154076,  0.1759616 ])"
      ]
     },
     "execution_count": 37,
     "metadata": {},
     "output_type": "execute_result"
    }
   ],
   "source": [
    "arr.mean(0)"
   ]
  },
  {
   "cell_type": "code",
   "execution_count": 38,
   "metadata": {},
   "outputs": [
    {
     "data": {
      "text/plain": [
       "array([-4.1273079 ,  1.75895788, -2.90770378,  0.87980802])"
      ]
     },
     "execution_count": 38,
     "metadata": {},
     "output_type": "execute_result"
    }
   ],
   "source": [
    "arr.sum(0)"
   ]
  },
  {
   "cell_type": "code",
   "execution_count": 39,
   "metadata": {},
   "outputs": [],
   "source": [
    "arr = np.random.randn(100)"
   ]
  },
  {
   "cell_type": "code",
   "execution_count": 40,
   "metadata": {},
   "outputs": [
    {
     "data": {
      "text/plain": [
       "array([ 0.6851172 , -0.37782256, -1.09016335,  0.31156621,  0.82924432,\n",
       "       -0.28485533, -2.12346144,  0.94765801, -0.29386629,  2.33726627,\n",
       "       -0.69463326, -1.4641599 , -1.67446249, -0.40998629, -0.21706709,\n",
       "       -0.20101107, -0.49984296,  0.21911148,  1.38329766, -0.02224162,\n",
       "       -0.56487474,  0.62773688,  1.80766604,  1.7618942 ,  0.12339265,\n",
       "        0.74963081, -0.99826935, -0.33111536, -0.82132941,  0.44503789,\n",
       "       -1.49650744, -1.49629424,  0.11540858, -0.50519898, -0.16558268,\n",
       "       -1.05654742,  1.57864976, -1.35183002,  2.07511336, -0.42825907,\n",
       "       -0.39803506, -2.9394373 ,  0.23468283, -0.52412403,  0.1050183 ,\n",
       "       -1.83092377, -0.52254074, -0.5123071 , -1.03630723, -0.06751324,\n",
       "        1.32843467, -1.51443907,  0.09285429,  1.61497233,  0.24531397,\n",
       "       -1.14759913,  1.59717517, -0.39208921, -0.78422527,  2.01020619,\n",
       "       -0.17074448, -0.53212134, -1.51748839,  1.24645887, -0.17762881,\n",
       "        0.36018914, -0.02149374, -1.74208833,  0.1140248 , -0.66014862,\n",
       "        2.61936878,  1.46259332, -0.10897906,  0.42512912,  0.22868255,\n",
       "       -0.55530204,  0.76231708, -0.29485962,  0.53455505, -0.98221281,\n",
       "        1.01698579,  1.29772616,  0.5334002 ,  0.71303096,  0.84008472,\n",
       "       -0.45865123,  2.10325256,  0.82298772,  0.87680676, -0.03740389,\n",
       "       -0.12524111,  1.30563872, -0.55555681, -0.11542822,  0.32561667,\n",
       "        1.1394022 ,  0.2108572 , -0.38821109, -0.00567138,  1.47251167])"
      ]
     },
     "execution_count": 40,
     "metadata": {},
     "output_type": "execute_result"
    }
   ],
   "source": [
    "arr"
   ]
  },
  {
   "cell_type": "code",
   "execution_count": 41,
   "metadata": {},
   "outputs": [
    {
     "data": {
      "text/plain": [
       "46"
      ]
     },
     "execution_count": 41,
     "metadata": {},
     "output_type": "execute_result"
    }
   ],
   "source": [
    "(arr>0).sum()"
   ]
  },
  {
   "cell_type": "code",
   "execution_count": 42,
   "metadata": {},
   "outputs": [],
   "source": [
    "bools = np.array([False,False,True,False])"
   ]
  },
  {
   "cell_type": "code",
   "execution_count": 43,
   "metadata": {},
   "outputs": [
    {
     "data": {
      "text/plain": [
       "True"
      ]
     },
     "execution_count": 43,
     "metadata": {},
     "output_type": "execute_result"
    }
   ],
   "source": [
    "bools.any()"
   ]
  },
  {
   "cell_type": "code",
   "execution_count": 44,
   "metadata": {},
   "outputs": [
    {
     "data": {
      "text/plain": [
       "False"
      ]
     },
     "execution_count": 44,
     "metadata": {},
     "output_type": "execute_result"
    }
   ],
   "source": [
    "bools.all(0)"
   ]
  },
  {
   "cell_type": "code",
   "execution_count": 46,
   "metadata": {},
   "outputs": [
    {
     "data": {
      "text/plain": [
       "False"
      ]
     },
     "execution_count": 46,
     "metadata": {},
     "output_type": "execute_result"
    }
   ],
   "source": [
    "bools.all()"
   ]
  },
  {
   "cell_type": "markdown",
   "metadata": {},
   "source": [
    "4.3.4 정렬"
   ]
  },
  {
   "cell_type": "code",
   "execution_count": 48,
   "metadata": {},
   "outputs": [],
   "source": [
    "arr =np.random.randn(6)"
   ]
  },
  {
   "cell_type": "code",
   "execution_count": 49,
   "metadata": {},
   "outputs": [
    {
     "data": {
      "text/plain": [
       "array([-0.21780153,  1.59188811, -0.27923353,  1.37417678,  2.26281408,\n",
       "        1.4623772 ])"
      ]
     },
     "execution_count": 49,
     "metadata": {},
     "output_type": "execute_result"
    }
   ],
   "source": [
    "arr"
   ]
  },
  {
   "cell_type": "code",
   "execution_count": 50,
   "metadata": {},
   "outputs": [],
   "source": [
    "arr.sort()"
   ]
  },
  {
   "cell_type": "code",
   "execution_count": 51,
   "metadata": {},
   "outputs": [
    {
     "data": {
      "text/plain": [
       "array([-0.27923353, -0.21780153,  1.37417678,  1.4623772 ,  1.59188811,\n",
       "        2.26281408])"
      ]
     },
     "execution_count": 51,
     "metadata": {},
     "output_type": "execute_result"
    }
   ],
   "source": [
    "arr"
   ]
  },
  {
   "cell_type": "markdown",
   "metadata": {},
   "source": [
    "다차원 배열의 정렬은 sort 메서드에 넘긴 축의 값에 따라 1차원 부분을 정렬한다."
   ]
  },
  {
   "cell_type": "code",
   "execution_count": 52,
   "metadata": {},
   "outputs": [],
   "source": [
    "arr = np.random.randn(5,3)"
   ]
  },
  {
   "cell_type": "code",
   "execution_count": 53,
   "metadata": {},
   "outputs": [
    {
     "data": {
      "text/plain": [
       "array([[ 1.36912154,  1.35176015,  0.03162865],\n",
       "       [ 0.48730682, -1.18448223,  0.06004419],\n",
       "       [-1.31711558, -0.16137311,  0.16301094],\n",
       "       [-0.54877396, -0.90807379,  0.52582426],\n",
       "       [-0.55952671, -0.60822686, -0.84967079]])"
      ]
     },
     "execution_count": 53,
     "metadata": {},
     "output_type": "execute_result"
    }
   ],
   "source": [
    "arr"
   ]
  },
  {
   "cell_type": "code",
   "execution_count": 54,
   "metadata": {},
   "outputs": [],
   "source": [
    "arr.sort(1)"
   ]
  },
  {
   "cell_type": "code",
   "execution_count": 55,
   "metadata": {},
   "outputs": [
    {
     "data": {
      "text/plain": [
       "array([[ 0.03162865,  1.35176015,  1.36912154],\n",
       "       [-1.18448223,  0.06004419,  0.48730682],\n",
       "       [-1.31711558, -0.16137311,  0.16301094],\n",
       "       [-0.90807379, -0.54877396,  0.52582426],\n",
       "       [-0.84967079, -0.60822686, -0.55952671]])"
      ]
     },
     "execution_count": 55,
     "metadata": {},
     "output_type": "execute_result"
    }
   ],
   "source": [
    "arr"
   ]
  },
  {
   "cell_type": "code",
   "execution_count": 56,
   "metadata": {},
   "outputs": [],
   "source": [
    "arr.sort()"
   ]
  },
  {
   "cell_type": "code",
   "execution_count": 57,
   "metadata": {},
   "outputs": [
    {
     "data": {
      "text/plain": [
       "array([[ 0.03162865,  1.35176015,  1.36912154],\n",
       "       [-1.18448223,  0.06004419,  0.48730682],\n",
       "       [-1.31711558, -0.16137311,  0.16301094],\n",
       "       [-0.90807379, -0.54877396,  0.52582426],\n",
       "       [-0.84967079, -0.60822686, -0.55952671]])"
      ]
     },
     "execution_count": 57,
     "metadata": {},
     "output_type": "execute_result"
    }
   ],
   "source": [
    "arr"
   ]
  },
  {
   "cell_type": "code",
   "execution_count": 58,
   "metadata": {},
   "outputs": [],
   "source": [
    "large_arr = np.random.randn(1000)"
   ]
  },
  {
   "cell_type": "code",
   "execution_count": 59,
   "metadata": {},
   "outputs": [
    {
     "data": {
      "text/plain": [
       "array([ 1.91146209e-01,  3.80438269e-01,  5.77921586e-01,  5.34475889e-01,\n",
       "        1.23209645e+00, -4.45122114e-01, -4.80623988e-01, -4.53339376e-01,\n",
       "        5.92401264e-01, -2.13087343e-01,  4.07112392e-01, -6.41652608e-02,\n",
       "       -1.03741675e+00,  1.49037098e+00,  5.69932196e-01, -3.93954231e-01,\n",
       "        2.99333279e+00, -5.89074411e-01, -8.07879639e-01,  9.43370497e-01,\n",
       "        1.14967817e+00, -2.60792645e+00, -1.08712800e+00, -1.24545815e+00,\n",
       "        2.13014655e+00,  8.78003751e-01, -1.74989030e-01, -3.23757440e-01,\n",
       "        7.81593198e-01, -5.40361398e-01,  1.08365464e+00, -1.01976997e+00,\n",
       "        5.93488131e-01,  1.57196029e+00, -7.98613727e-01, -3.09537569e-01,\n",
       "       -1.25462318e+00, -9.14099648e-01,  9.72809072e-01,  9.52671765e-01,\n",
       "       -1.32604098e+00,  5.93648423e-01,  5.25906506e-03,  6.97850168e-01,\n",
       "       -1.59644613e+00,  1.94131107e-01, -8.99696028e-01, -9.31282128e-01,\n",
       "       -8.71304764e-01, -5.74552856e-01,  2.40014899e-01,  2.09409083e-01,\n",
       "        7.35130274e-01,  2.02159150e+00, -3.97843525e-01, -8.05100184e-01,\n",
       "       -2.03114136e-01, -5.57348327e-01, -2.57586404e+00,  1.61565126e+00,\n",
       "       -4.88962719e-01, -8.27096574e-01, -3.20411573e-01, -6.13093940e-01,\n",
       "        2.42959471e-01,  4.74230363e-01,  3.21108416e-01, -9.49734475e-01,\n",
       "       -1.45818752e+00, -7.23847456e-01, -1.55212756e+00,  6.07807792e-01,\n",
       "        1.44900730e+00,  2.40419974e-01,  6.10422804e-01, -1.41518901e+00,\n",
       "        1.26509381e-01,  1.95266728e-01,  2.67294680e+00,  4.00170523e-01,\n",
       "        1.03404449e+00,  9.59609746e-01, -7.43556805e-03,  3.46343310e-01,\n",
       "       -7.80238751e-01, -5.82262354e-01, -6.65258085e-01,  2.23719595e-01,\n",
       "       -5.69487105e-02,  9.36638398e-01,  2.74258431e-01,  5.87434349e-01,\n",
       "       -2.99586640e-01, -6.58516847e-01,  2.75369330e+00,  3.16954751e-01,\n",
       "       -1.68891051e+00,  1.05250677e+00, -6.65220800e-01,  1.59760188e-02,\n",
       "        3.97326615e-03, -7.09544665e-01,  1.45503690e-01, -4.69860266e-01,\n",
       "        2.37221303e-01, -1.40906692e+00,  7.88278796e-01, -1.08376287e+00,\n",
       "       -1.60937847e+00,  6.95046025e-02,  1.17514229e+00,  9.23506855e-01,\n",
       "       -1.36421888e+00,  7.41817139e-01, -4.62182654e-01,  3.37943555e-01,\n",
       "        7.71292255e-01,  1.77062675e+00, -1.14065047e-01,  9.59530321e-01,\n",
       "        1.59676234e+00, -3.11104192e-02,  7.56115947e-01, -1.08956861e+00,\n",
       "        4.80957872e-01,  1.22054167e+00,  2.97660730e-01, -4.21339805e-01,\n",
       "        6.11186282e-01, -9.58478042e-01, -1.16902060e+00,  2.78845447e-01,\n",
       "       -1.19339729e-01,  4.24346201e-01, -7.00772365e-01,  2.17920853e+00,\n",
       "       -1.87289563e+00, -1.09560303e-01, -6.13089555e-01,  7.34183922e-01,\n",
       "       -1.80870558e+00, -1.10770361e-01,  8.81713530e-01, -4.39203766e-01,\n",
       "       -1.69137950e+00, -3.34595339e-01,  4.21086835e-01, -1.49974774e-01,\n",
       "        4.40229925e-01, -1.30872669e+00,  4.07891043e-01,  2.67199590e-01,\n",
       "       -9.78861292e-01,  9.63148571e-01, -1.53670327e-01, -9.41526569e-01,\n",
       "        1.56076437e+00, -2.13135052e-01, -7.11942489e-01, -8.87273539e-01,\n",
       "       -2.29104812e-01,  1.40707391e+00, -2.02575530e-01, -6.62702223e-01,\n",
       "       -5.73634673e-01, -8.21396080e-02,  7.91585654e-01,  1.59114126e+00,\n",
       "       -7.37675909e-01, -7.20508480e-01,  5.03917712e-02, -3.05024774e-01,\n",
       "       -1.01872429e+00, -7.84270826e-01, -3.35897672e-01,  1.58962689e+00,\n",
       "        3.22958790e-01, -1.06172629e+00,  2.81705758e-01,  1.09199135e+00,\n",
       "        2.85846581e-01, -1.35869916e-01, -1.12558425e-01,  4.78296491e-01,\n",
       "        2.92661690e-01,  4.61694930e-01, -3.69213017e-01,  1.14714179e-01,\n",
       "        3.35600322e-01,  2.08916062e-01,  3.90593128e-01,  3.11981411e-01,\n",
       "        1.37717760e+00,  6.51680910e-02, -9.26809787e-01, -2.33749338e-01,\n",
       "        2.15641735e+00, -1.90831692e+00, -2.20724375e-02,  1.07999721e+00,\n",
       "       -2.76306881e+00, -1.81600921e+00,  7.35518216e-01, -5.43079264e-01,\n",
       "       -8.45825308e-01, -3.25829804e-01,  6.12593010e-01, -7.88911026e-01,\n",
       "        1.29264688e+00, -1.52768898e+00, -4.01333943e-01, -1.96201433e-01,\n",
       "       -3.00062952e-01, -1.11040014e+00, -1.78740587e+00,  4.90446079e-02,\n",
       "        2.71997868e-01, -3.96173771e-02,  1.33712560e+00, -6.07581668e-01,\n",
       "       -5.68643767e-02,  6.40463279e-01, -1.12660084e+00, -6.02491823e-01,\n",
       "        3.98896753e-01,  1.53598121e-01, -1.70124867e+00,  5.26289319e-01,\n",
       "        8.87626932e-01, -4.13742104e-01, -8.50933811e-01,  2.58914515e-01,\n",
       "       -4.46821876e-02,  6.78371777e-01,  7.33507374e-01, -1.51380657e-02,\n",
       "        2.71449475e-02,  5.83654708e-01, -6.80653586e-01, -5.46627426e-01,\n",
       "        5.64214407e-01,  1.82416584e-01, -6.40609341e-01, -1.94193480e+00,\n",
       "        2.13046857e-02,  1.02297426e+00, -2.38803279e-01,  3.68450444e-01,\n",
       "        1.24212421e-01,  1.00678646e+00, -5.10233429e-01,  1.10280270e+00,\n",
       "       -6.22114709e-01, -6.64329872e-01, -7.02953446e-02, -5.74895018e-02,\n",
       "        1.38188984e+00, -3.08088960e-01,  1.77725421e+00,  8.00537543e-01,\n",
       "        4.47513933e-01,  4.51690021e-01,  1.00230245e+00, -1.28747691e+00,\n",
       "        9.25357291e-02, -9.72521088e-03, -5.03887864e-01, -2.30356731e-01,\n",
       "        1.32488277e+00,  7.84147634e-01, -7.67504980e-01,  9.01280810e-01,\n",
       "       -3.45210894e-01, -9.28069567e-01,  7.04378449e-01,  8.61313823e-01,\n",
       "        2.44720879e+00, -7.39398414e-01,  2.35110538e-02,  1.73732286e+00,\n",
       "       -2.00638683e-02,  2.30358841e+00,  1.67575133e+00, -1.79787126e+00,\n",
       "       -7.55876610e-01, -1.21196189e+00, -1.16184360e+00,  1.66892434e+00,\n",
       "        7.94172141e-01,  6.89538278e-01, -1.42205801e-02,  7.95436802e-01,\n",
       "       -1.06582415e+00, -9.85505204e-01,  2.30893022e-01,  1.31127587e+00,\n",
       "       -1.21831878e+00, -9.45110535e-01, -2.14516610e-01, -3.32797305e-01,\n",
       "        1.41945537e-01,  9.07739895e-01,  7.75605628e-01,  2.63441650e-01,\n",
       "        8.37994393e-01,  7.22834630e-01, -2.14623251e-01, -3.15041651e-01,\n",
       "       -2.40236241e-01,  1.31419280e-01, -5.74401956e-02,  1.16135103e-01,\n",
       "        1.08375750e+00,  9.07164217e-01, -1.60636877e+00,  9.41848095e-01,\n",
       "        1.12517054e-01,  9.10216958e-01,  3.93012703e-01,  5.89132514e-01,\n",
       "       -3.65547752e-01,  3.64211691e-01,  1.35427195e+00,  1.12926220e+00,\n",
       "       -1.84519062e-01, -2.48949349e-01,  1.02615534e-01,  5.74370471e-01,\n",
       "       -1.67882277e+00, -1.46447072e+00, -1.10611237e+00,  2.20445376e+00,\n",
       "       -3.19640404e-01,  8.67982758e-01,  5.04295217e-01,  1.40684181e+00,\n",
       "       -3.88818378e-01, -1.12038556e+00,  5.32879673e-01,  7.94713704e-01,\n",
       "        9.21454147e-01,  4.51726054e-01, -2.31972579e-01, -3.47614466e-01,\n",
       "        2.05799463e-01, -9.39749682e-01, -1.32898092e+00, -1.37561811e+00,\n",
       "       -1.06646263e-01, -1.13013517e+00, -4.92143175e-01, -3.88311485e-01,\n",
       "        7.18737346e-01,  4.13782170e-01, -9.34846673e-01, -1.80857583e-02,\n",
       "        8.71089540e-01, -1.61582968e+00, -4.05432136e-02, -1.10661092e+00,\n",
       "        1.09964549e+00,  2.48137683e+00,  1.23797828e+00,  8.96488623e-01,\n",
       "        1.07971148e+00, -1.41835793e+00, -5.38565063e-01, -9.86955193e-01,\n",
       "       -2.98854021e-01,  1.57392481e+00,  6.70559683e-01, -1.37642021e+00,\n",
       "        2.44729896e-02, -5.53690364e-02, -2.07550923e-01,  2.21361355e-01,\n",
       "        9.97726784e-01, -8.17509897e-01, -1.56205635e-01,  1.69544127e+00,\n",
       "        9.41713838e-02,  1.11705210e-01, -4.53713155e-01, -2.04691167e-01,\n",
       "       -5.42271937e-01, -2.51616169e+00,  3.58435552e-02,  4.78077045e-01,\n",
       "        5.65664828e-01, -3.80959795e-01,  5.66851519e-01,  7.53381813e-01,\n",
       "       -3.80542754e+00, -1.12712784e+00, -2.60044521e+00, -7.12008170e-01,\n",
       "       -6.06799379e-01, -6.26633385e-01,  2.48637797e-01, -1.60967636e-01,\n",
       "       -2.15581588e-01,  8.66928718e-02, -6.17363313e-01, -2.75907851e-01,\n",
       "        5.91678998e-01,  3.74747376e-01,  9.68182813e-01, -1.19419771e+00,\n",
       "        6.02127155e-01, -1.53330406e+00,  2.18540266e-01, -4.86074974e-03,\n",
       "       -1.99695731e-01, -2.24371696e+00,  5.39607383e-01,  5.66373437e-02,\n",
       "       -9.80095306e-01,  2.26423903e-01, -1.98269512e+00, -1.89424685e+00,\n",
       "       -1.83654652e+00, -1.41678215e-01,  1.18770793e+00,  8.53522530e-01,\n",
       "       -5.83769220e-01,  4.42082761e-01,  5.24574798e-01,  2.26334745e-02,\n",
       "       -4.73965943e-01,  9.38405706e-01,  5.74199886e-01, -2.35298489e-01,\n",
       "       -6.12772713e-01, -4.52893075e-02, -1.45576935e-02, -2.66246940e-02,\n",
       "       -7.21680086e-02, -4.54883063e-01, -5.54857476e-02, -1.29493316e+00,\n",
       "        6.40077362e-01,  3.32029614e-01,  9.56310962e-01,  1.37274334e+00,\n",
       "       -9.39993533e-02,  8.76028827e-01, -1.04385426e+00,  4.45248932e-02,\n",
       "       -6.00550662e-01,  8.06354965e-01,  1.58913904e-01, -1.03590933e+00,\n",
       "        2.50220773e-01, -8.81684833e-01, -9.36740991e-01, -2.09336308e+00,\n",
       "        8.18098788e-01,  5.09833718e-01, -6.54118014e-02, -9.25564266e-01,\n",
       "       -1.97292172e+00,  1.20850169e+00, -1.18203596e-01, -1.05989553e+00,\n",
       "        1.39481096e+00,  8.13695386e-01, -1.15975546e+00,  4.08889688e-01,\n",
       "        6.08201409e-01,  1.00383553e+00, -1.53851846e-01,  4.54136496e-01,\n",
       "       -6.19163320e-01, -6.84163989e-01,  7.35989941e-01, -5.74918873e-01,\n",
       "        1.75089062e+00,  1.83253497e+00,  1.60196445e-01,  1.53084533e+00,\n",
       "       -5.82985599e-01,  1.40691495e+00, -1.32972193e-01, -8.23274156e-01,\n",
       "       -7.58897044e-01,  1.40196453e+00, -1.17200714e-01,  2.48860926e-01,\n",
       "        2.99815477e-01,  6.18867447e-01, -2.91670740e-01, -4.93420921e-01,\n",
       "       -1.92465603e+00, -8.75697232e-02, -2.04141725e+00, -3.59720025e-01,\n",
       "        1.50578024e+00,  1.99563837e+00, -6.20123990e-01, -7.01060042e-02,\n",
       "        1.92115030e+00, -2.60756631e-01, -3.98730019e-01, -3.99070501e-01,\n",
       "        1.91599145e-01, -8.70326742e-01, -3.36859780e-01,  1.09661345e-01,\n",
       "       -6.60029902e-01,  1.19793910e+00, -3.05334878e-02,  1.48912596e+00,\n",
       "       -2.17630521e-01, -2.10975978e-01,  3.22314239e-01, -8.83416600e-01,\n",
       "       -1.07082085e+00, -1.79776616e+00, -1.88131127e+00,  2.73633927e-01,\n",
       "        7.30739157e-01,  5.04908549e-01, -4.00347878e-01, -4.67299234e-01,\n",
       "       -1.24362529e+00,  1.02152289e+00,  1.05349625e+00,  7.14226014e-01,\n",
       "       -2.49041070e+00,  5.70064663e-01,  4.95711980e-01, -4.96551929e-01,\n",
       "        1.48375725e+00,  2.11951377e-01, -1.45169723e+00, -1.85367309e+00,\n",
       "       -1.38448985e+00, -2.34668576e-01,  1.79002347e-01,  9.09592928e-01,\n",
       "        4.50583825e-01, -1.10207190e+00, -2.98947594e-01, -2.40087280e-02,\n",
       "       -1.56474420e+00,  1.56708407e+00, -1.40937599e+00,  1.40150241e+00,\n",
       "        8.86498752e-01, -3.99862129e-01, -3.33417787e-01,  1.01515010e+00,\n",
       "        2.72459963e+00,  4.63455537e-01,  2.51498934e-01, -5.63195402e-02,\n",
       "        4.61258992e-01,  2.28126055e+00,  1.72581984e+00, -2.63827922e-02,\n",
       "        2.27989844e-01, -7.49561353e-01, -7.20060340e-01,  9.92491718e-02,\n",
       "       -1.61422676e+00, -8.19926147e-01, -1.00706857e+00,  1.42332269e-01,\n",
       "       -1.00556769e+00, -1.67220948e+00,  5.84782555e-01,  1.11553212e+00,\n",
       "       -1.41560911e+00, -9.31862300e-01, -4.48014585e-01,  3.45055046e-01,\n",
       "       -1.71365743e+00, -2.19645749e-01,  2.29762586e-01,  1.07667573e+00,\n",
       "        4.28274040e-02,  8.64018428e-02,  9.95081872e-01, -1.11479163e+00,\n",
       "        7.62313764e-02,  2.56469290e-01,  3.41699818e-01, -9.47252244e-01,\n",
       "       -1.21240423e+00,  5.69413987e-01, -4.85769172e-01,  1.24868705e-01,\n",
       "        4.73927113e-01, -1.36454465e+00, -5.99218578e-01,  2.68858285e-01,\n",
       "       -2.03025961e-01, -2.21734402e+00,  2.08112787e-01, -1.18683545e+00,\n",
       "        6.65023826e-01, -1.56350621e+00,  4.81066389e-01, -1.47873930e+00,\n",
       "        1.13032873e-01, -5.72659159e-01, -5.99467871e-01, -1.25902194e+00,\n",
       "       -6.18100978e-02,  3.38793335e-01, -4.03992456e-02,  1.28667103e+00,\n",
       "        4.87753065e-01, -7.49212433e-01,  9.30392369e-01,  1.20317416e-01,\n",
       "       -4.27848413e-01, -5.72115238e-01, -1.22448401e+00,  4.01302765e-01,\n",
       "       -3.16571593e-01,  1.43061175e+00,  7.77612189e-01, -1.36803717e+00,\n",
       "       -1.94584955e+00,  1.74586509e+00,  1.89408933e+00, -9.98562412e-01,\n",
       "        5.17207144e-01, -1.38469667e+00,  2.06286082e+00, -8.88017983e-01,\n",
       "       -2.14282957e-01, -1.36923686e+00,  2.07823676e+00,  1.83908469e+00,\n",
       "       -9.50011803e-01,  1.18841960e+00, -1.12011816e+00,  2.29845655e+00,\n",
       "       -5.64183527e-01,  2.70818291e+00,  1.08679263e+00,  7.75672022e-01,\n",
       "        7.22284628e-01,  4.30608529e-01, -2.28674319e-01,  9.11855829e-03,\n",
       "       -8.87140951e-01, -1.52119612e-01,  3.98735422e-01,  4.73416174e-01,\n",
       "        3.76101355e-01, -5.17617328e-01,  8.41601947e-02,  1.00594710e+00,\n",
       "       -1.35957392e-01, -1.20315156e+00, -1.23546171e+00,  2.25670000e+00,\n",
       "       -6.64422817e-01, -2.03609070e-03, -1.81407463e+00,  7.17599041e-01,\n",
       "        6.61408264e-01,  5.40145487e-01, -1.05548144e+00,  1.84216703e-02,\n",
       "       -4.83163912e-01, -8.68939215e-01,  6.46743273e-03,  2.08631905e-01,\n",
       "        1.17512631e+00, -1.55080769e-01,  1.11899510e+00, -2.95650385e-01,\n",
       "       -7.26300819e-01, -1.06466484e+00, -4.18588433e-01, -7.88371188e-01,\n",
       "        1.72764116e-01,  1.58895326e+00,  8.10489896e-01, -1.23766356e+00,\n",
       "       -6.97496152e-01, -4.16579124e-01,  1.61112417e-01, -3.14452936e-01,\n",
       "        1.23650791e-02,  1.07589341e+00, -1.26092338e+00, -5.43839559e-01,\n",
       "        1.15859707e+00, -8.85578345e-01, -2.11213444e-01,  3.70101948e-02,\n",
       "        6.32808674e-01,  1.49569474e-01,  1.34135600e+00,  5.39071746e-01,\n",
       "        6.64466183e-01, -3.09313500e-02,  5.23332785e-02,  2.85605677e-01,\n",
       "        1.67739377e+00, -3.37546234e-01, -3.92326088e-01, -6.77231058e-01,\n",
       "        1.60030606e-02,  1.28803818e+00,  5.88340280e-01, -7.41097945e-01,\n",
       "       -1.06061259e+00, -3.50361980e-01, -1.68098570e+00, -5.54496908e-01,\n",
       "        1.89844984e-01, -2.39870009e-01,  1.73394703e-01,  1.95038871e+00,\n",
       "       -2.12893677e-01, -7.87172251e-01,  3.68932353e-01,  3.68114919e-01,\n",
       "       -8.46923547e-01, -1.59397421e+00,  1.35873320e+00, -9.27196087e-01,\n",
       "       -5.89888506e-01, -5.12331552e-01, -1.42215419e+00,  5.95154455e-01,\n",
       "       -1.21411979e+00, -5.59118402e-01,  8.08991277e-01,  1.38335885e+00,\n",
       "        1.31774276e-01,  6.35993962e-01, -2.25164797e+00,  2.49922667e-01,\n",
       "        2.18293073e+00,  7.71979681e-01,  2.50221988e-01, -3.53756903e-01,\n",
       "        1.77089628e-01, -6.10926816e-01, -1.07873873e+00, -1.02151664e-01,\n",
       "        4.72766350e-01, -3.34365337e-01, -1.15085026e+00, -8.31543435e-01,\n",
       "       -5.00663253e-01, -1.13812610e-02, -9.38981001e-01,  7.27285830e-02,\n",
       "       -8.14296747e-01, -7.06489529e-01,  9.54642279e-01, -1.88003238e+00,\n",
       "        1.85482032e-01,  1.49261659e+00, -2.26662722e-01,  7.09872688e-01,\n",
       "       -4.49259369e-01,  7.48489322e-02, -7.81757128e-01, -1.00479659e+00,\n",
       "       -7.71584871e-01, -1.19274238e+00, -4.62941606e-01, -3.94354763e-01,\n",
       "       -3.66684042e-01,  3.40295084e-02,  6.15486614e-02,  4.50153400e-01,\n",
       "       -1.02535593e+00,  1.50162699e+00,  1.01087192e+00, -8.14261580e-01,\n",
       "       -7.72521500e-01, -1.21830319e+00, -1.28646512e-01,  1.55252734e-01,\n",
       "        1.74757933e+00,  7.98249361e-01,  3.70437469e-03, -9.93373047e-01,\n",
       "        1.79940013e-01, -8.20621906e-01,  1.54821889e+00,  2.15768490e+00,\n",
       "        9.52159037e-01, -3.15123988e-01,  1.37200817e+00,  1.64028676e+00,\n",
       "        1.61807304e+00, -6.13167801e-01,  9.77942323e-01, -1.18395090e+00,\n",
       "       -1.33857804e+00,  1.03976901e+00,  1.36267829e+00, -1.88779541e+00,\n",
       "       -3.44112224e-01, -1.44099201e+00, -1.32127914e+00,  1.80475168e-01,\n",
       "       -1.27033521e+00, -5.24648992e-01, -3.60679642e-01,  7.09226273e-01,\n",
       "       -9.77397308e-01,  5.66591449e-01, -7.50213081e-01, -1.16133425e+00,\n",
       "        2.25151942e-02, -3.82805018e-01,  2.00102151e-01,  1.51205470e+00,\n",
       "       -1.88001176e+00, -1.50434537e+00, -1.22287073e+00, -5.02292760e-01,\n",
       "        1.33044133e+00,  8.89519564e-01, -1.51787260e+00,  1.92529646e-01,\n",
       "        1.14641449e+00,  2.48328272e-02, -2.47295149e-01, -8.73134640e-02,\n",
       "       -7.20577579e-01, -9.59542331e-02, -1.36242285e+00, -1.86033269e+00,\n",
       "       -1.07802501e+00,  8.42368399e-01,  6.73068472e-01,  1.57709944e+00,\n",
       "        7.75340429e-02,  6.35591447e-01, -9.67463068e-01,  1.95359137e-01,\n",
       "        1.39006326e+00,  4.09352417e-01, -4.15749995e-01, -5.99026822e-01,\n",
       "       -1.19353785e+00, -1.49366021e+00,  5.24939912e-02,  5.25498179e-01,\n",
       "       -4.57967734e-01,  4.93935843e-01, -9.47714064e-01, -1.87074324e+00,\n",
       "        7.12182730e-01, -1.31671994e+00, -4.24953686e-01, -7.61200807e-01,\n",
       "        2.68447925e+00,  9.79841839e-02,  1.55806550e-01, -4.09012660e-01,\n",
       "       -1.68283974e-01,  8.10663612e-02, -1.43989571e+00, -6.37721859e-01,\n",
       "       -4.04278168e-01,  1.34520257e-01,  1.06236870e+00,  1.08752418e+00,\n",
       "        6.21810862e-01, -2.27892019e-01, -8.40730560e-01,  9.40718278e-01,\n",
       "        7.58535622e-01, -1.73705736e+00, -1.69382043e-01, -1.27832253e-01,\n",
       "       -6.30395071e-01, -4.64897778e-01, -9.24972695e-01, -3.71745069e-01,\n",
       "       -1.62819267e-01, -1.01187839e-01, -1.08941277e+00,  1.17584440e+00,\n",
       "       -1.02613699e+00, -1.47881191e+00,  6.68742597e-01, -1.12242087e-01,\n",
       "        1.77737870e-01, -2.15278329e+00, -9.29551072e-01, -2.67550281e-01,\n",
       "        6.95410836e-01, -3.90602122e-01,  2.98198749e-01, -1.68715555e-01,\n",
       "       -1.47659791e+00, -4.29410810e-01,  5.62310727e-01, -2.32005969e-01,\n",
       "        1.21767698e-01, -5.94955701e-01, -1.94826263e+00,  1.06452512e-01,\n",
       "       -4.09166988e-01, -4.41372329e-01,  2.41924990e-01,  1.81607367e+00,\n",
       "       -5.58691971e-01, -2.32189674e-02,  1.05973177e+00,  1.65010714e+00,\n",
       "        4.56963445e-01,  1.52781531e+00, -9.70619841e-01,  1.06246458e+00,\n",
       "       -3.06699135e-01, -1.92459291e+00,  1.29349318e-02, -1.08074097e+00,\n",
       "       -6.07857798e-01,  1.21900755e+00,  1.12144491e+00,  1.77823411e-01,\n",
       "        6.78693192e-01,  6.10862152e-01,  8.73997492e-01, -4.79972468e-01,\n",
       "        3.79138746e-01,  1.89356323e+00,  1.69025070e-01, -8.40654637e-01,\n",
       "        4.51886457e-01, -7.32816504e-01,  1.57604885e+00,  1.90674824e-01,\n",
       "        1.51787255e-01, -6.36154637e-01,  9.95842318e-01, -1.01416721e+00,\n",
       "       -1.07663355e+00, -1.20952029e-01, -2.05411272e-01,  1.68861941e+00,\n",
       "       -9.28699381e-01, -3.31000268e-01,  1.93633593e-01, -1.75824549e+00,\n",
       "        1.64468644e+00, -1.29641517e+00, -3.35203754e-01, -1.57845820e+00,\n",
       "        9.60753771e-01, -1.24188712e+00,  7.37345672e-01, -1.60526556e+00,\n",
       "        2.07571617e-01, -6.12047040e-01, -4.33949605e-01,  1.22411916e+00,\n",
       "       -1.72274257e+00,  1.63592400e+00, -2.26206138e-02, -4.63582480e-01,\n",
       "       -4.67207677e-01,  5.74491347e-01,  1.04077281e+00,  1.70899155e-01,\n",
       "        8.78721586e-01, -1.08891947e+00, -4.80305614e-01, -1.90132317e+00,\n",
       "       -2.02086558e+00, -3.34126115e-01, -2.15404782e-02, -3.85662962e-01,\n",
       "        2.17303218e-02, -8.47541146e-01, -4.18067909e-01, -1.53083906e+00,\n",
       "        8.91090901e-01,  1.38803555e-02, -1.20491361e+00,  9.46867210e-01,\n",
       "       -1.44223342e+00,  1.00013435e+00,  5.11561850e-01,  3.91067768e-01,\n",
       "        2.15028961e-01, -5.57635007e-01,  9.25630180e-01, -1.17196992e+00,\n",
       "        1.74262656e-01, -3.51626020e-01, -7.96464356e-01, -1.98273565e-02])"
      ]
     },
     "execution_count": 59,
     "metadata": {},
     "output_type": "execute_result"
    }
   ],
   "source": [
    "large_arr"
   ]
  },
  {
   "cell_type": "code",
   "execution_count": 60,
   "metadata": {},
   "outputs": [
    {
     "data": {
      "text/plain": [
       "0.2400148994379925"
      ]
     },
     "execution_count": 60,
     "metadata": {},
     "output_type": "execute_result"
    }
   ],
   "source": [
    "large_arr[int(0.05 * len(large_arr))]"
   ]
  },
  {
   "cell_type": "code",
   "execution_count": 61,
   "metadata": {},
   "outputs": [],
   "source": [
    "names = np.array(['Bob','Joe','Will','Bob','Will','Joe','Joe'])"
   ]
  },
  {
   "cell_type": "code",
   "execution_count": 62,
   "metadata": {},
   "outputs": [
    {
     "data": {
      "text/plain": [
       "array(['Bob', 'Joe', 'Will'], dtype='<U4')"
      ]
     },
     "execution_count": 62,
     "metadata": {},
     "output_type": "execute_result"
    }
   ],
   "source": [
    "np.unique(names)"
   ]
  },
  {
   "cell_type": "code",
   "execution_count": 63,
   "metadata": {},
   "outputs": [],
   "source": [
    "ints = np.array([3,3,3,2,2,1,1,4,4])"
   ]
  },
  {
   "cell_type": "code",
   "execution_count": 64,
   "metadata": {},
   "outputs": [
    {
     "data": {
      "text/plain": [
       "array([1, 2, 3, 4])"
      ]
     },
     "execution_count": 64,
     "metadata": {},
     "output_type": "execute_result"
    }
   ],
   "source": [
    "np.unique(ints)"
   ]
  },
  {
   "cell_type": "code",
   "execution_count": 66,
   "metadata": {},
   "outputs": [
    {
     "data": {
      "text/plain": [
       "['Bob', 'Joe', 'Will']"
      ]
     },
     "execution_count": 66,
     "metadata": {},
     "output_type": "execute_result"
    }
   ],
   "source": [
    "sorted(set(names))"
   ]
  },
  {
   "cell_type": "markdown",
   "metadata": {},
   "source": [
    "np.in1d 함수는 두 개의 배열을 받아서 첫번째 배열의 원소가 두 번쨰 배열의 원소를 포함하는지 나타내는 불리언 배열을 반환한다."
   ]
  },
  {
   "cell_type": "code",
   "execution_count": 67,
   "metadata": {},
   "outputs": [],
   "source": [
    "values =np.array([6,0,0,3,2,5,6])"
   ]
  },
  {
   "cell_type": "code",
   "execution_count": 68,
   "metadata": {},
   "outputs": [
    {
     "data": {
      "text/plain": [
       "array([ True, False, False,  True,  True, False,  True])"
      ]
     },
     "execution_count": 68,
     "metadata": {},
     "output_type": "execute_result"
    }
   ],
   "source": [
    "np.in1d(values,[2,3,6])"
   ]
  },
  {
   "cell_type": "code",
   "execution_count": 70,
   "metadata": {},
   "outputs": [
    {
     "data": {
      "text/plain": [
       "array([False,  True,  True, False,  True,  True, False])"
      ]
     },
     "execution_count": 70,
     "metadata": {},
     "output_type": "execute_result"
    }
   ],
   "source": [
    "np.in1d([1,2,3,1,2,3,4],[2,3,76])"
   ]
  },
  {
   "cell_type": "markdown",
   "metadata": {},
   "source": [
    "4.4 배열 데이터의 파일 입출력"
   ]
  },
  {
   "cell_type": "code",
   "execution_count": 72,
   "metadata": {},
   "outputs": [],
   "source": [
    "arr = np.arange(10)"
   ]
  },
  {
   "cell_type": "code",
   "execution_count": 73,
   "metadata": {},
   "outputs": [],
   "source": [
    "np.save('some_array',arr)"
   ]
  },
  {
   "cell_type": "code",
   "execution_count": 74,
   "metadata": {},
   "outputs": [
    {
     "data": {
      "text/plain": [
       "array([0, 1, 2, 3, 4, 5, 6, 7, 8, 9])"
      ]
     },
     "execution_count": 74,
     "metadata": {},
     "output_type": "execute_result"
    }
   ],
   "source": [
    "np.load('some_array.npy')"
   ]
  },
  {
   "cell_type": "code",
   "execution_count": 75,
   "metadata": {},
   "outputs": [],
   "source": [
    "np.savez('array_archive.npz',a=arr,b=arr)"
   ]
  },
  {
   "cell_type": "code",
   "execution_count": 77,
   "metadata": {},
   "outputs": [],
   "source": [
    "arch = np.load('array_archive.npz')"
   ]
  },
  {
   "cell_type": "code",
   "execution_count": 78,
   "metadata": {},
   "outputs": [
    {
     "data": {
      "text/plain": [
       "array([0, 1, 2, 3, 4, 5, 6, 7, 8, 9])"
      ]
     },
     "execution_count": 78,
     "metadata": {},
     "output_type": "execute_result"
    }
   ],
   "source": [
    "arch['b']"
   ]
  },
  {
   "cell_type": "code",
   "execution_count": 79,
   "metadata": {},
   "outputs": [
    {
     "data": {
      "text/plain": [
       "array([0, 1, 2, 3, 4, 5, 6, 7, 8, 9])"
      ]
     },
     "execution_count": 79,
     "metadata": {},
     "output_type": "execute_result"
    }
   ],
   "source": [
    "arch['a']"
   ]
  },
  {
   "cell_type": "markdown",
   "metadata": {},
   "source": [
    "4.5 선형대수"
   ]
  },
  {
   "cell_type": "code",
   "execution_count": 80,
   "metadata": {},
   "outputs": [],
   "source": [
    "x = np.array([[1,2,3],[4,5,6]])"
   ]
  },
  {
   "cell_type": "code",
   "execution_count": 81,
   "metadata": {},
   "outputs": [],
   "source": [
    "y = np.array([[6,23],[-1,7],[8,9]])"
   ]
  },
  {
   "cell_type": "code",
   "execution_count": 82,
   "metadata": {},
   "outputs": [
    {
     "data": {
      "text/plain": [
       "array([[1, 2, 3],\n",
       "       [4, 5, 6]])"
      ]
     },
     "execution_count": 82,
     "metadata": {},
     "output_type": "execute_result"
    }
   ],
   "source": [
    "x"
   ]
  },
  {
   "cell_type": "code",
   "execution_count": 83,
   "metadata": {},
   "outputs": [
    {
     "data": {
      "text/plain": [
       "array([[ 6, 23],\n",
       "       [-1,  7],\n",
       "       [ 8,  9]])"
      ]
     },
     "execution_count": 83,
     "metadata": {},
     "output_type": "execute_result"
    }
   ],
   "source": [
    "y"
   ]
  },
  {
   "cell_type": "code",
   "execution_count": 84,
   "metadata": {},
   "outputs": [
    {
     "data": {
      "text/plain": [
       "array([[ 28,  64],\n",
       "       [ 67, 181]])"
      ]
     },
     "execution_count": 84,
     "metadata": {},
     "output_type": "execute_result"
    }
   ],
   "source": [
    "x.dot(y)"
   ]
  },
  {
   "cell_type": "code",
   "execution_count": 85,
   "metadata": {},
   "outputs": [
    {
     "data": {
      "text/plain": [
       "array([[ 28,  64],\n",
       "       [ 67, 181]])"
      ]
     },
     "execution_count": 85,
     "metadata": {},
     "output_type": "execute_result"
    }
   ],
   "source": [
    "np.dot(x,y)"
   ]
  },
  {
   "cell_type": "code",
   "execution_count": 87,
   "metadata": {},
   "outputs": [
    {
     "data": {
      "text/plain": [
       "array([1., 1., 1.])"
      ]
     },
     "execution_count": 87,
     "metadata": {},
     "output_type": "execute_result"
    }
   ],
   "source": [
    "np.ones(3)"
   ]
  },
  {
   "cell_type": "code",
   "execution_count": 88,
   "metadata": {},
   "outputs": [
    {
     "data": {
      "text/plain": [
       "array([ 6., 15.])"
      ]
     },
     "execution_count": 88,
     "metadata": {},
     "output_type": "execute_result"
    }
   ],
   "source": [
    "np.dot(x,np.ones(3))"
   ]
  },
  {
   "cell_type": "code",
   "execution_count": 89,
   "metadata": {},
   "outputs": [],
   "source": [
    "from numpy.linalg import inv,qr"
   ]
  },
  {
   "cell_type": "code",
   "execution_count": 90,
   "metadata": {},
   "outputs": [],
   "source": [
    "X = np.random.randn(5,5)"
   ]
  },
  {
   "cell_type": "code",
   "execution_count": 91,
   "metadata": {},
   "outputs": [],
   "source": [
    "mat =X.T.dot(X)"
   ]
  },
  {
   "cell_type": "code",
   "execution_count": 92,
   "metadata": {},
   "outputs": [
    {
     "data": {
      "text/plain": [
       "array([[ 5.75781189, -3.78768109,  4.27344768,  2.39047093,  1.78031778],\n",
       "       [-3.78768109,  4.49091913, -5.06274131, -3.73875023,  0.91189246],\n",
       "       [ 4.27344768, -5.06274131,  6.14957364,  4.50830155, -1.34993287],\n",
       "       [ 2.39047093, -3.73875023,  4.50830155,  3.72785624, -1.84070795],\n",
       "       [ 1.78031778,  0.91189246, -1.34993287, -1.84070795,  3.20979759]])"
      ]
     },
     "execution_count": 92,
     "metadata": {},
     "output_type": "execute_result"
    }
   ],
   "source": [
    "inv(mat)"
   ]
  },
  {
   "cell_type": "code",
   "execution_count": 93,
   "metadata": {},
   "outputs": [
    {
     "data": {
      "text/plain": [
       "array([[ 4.46855766,  0.97006983, -2.63925243, -0.84915595, -4.35102631],\n",
       "       [ 0.97006983,  3.95135265,  1.3347803 ,  1.65147829, -0.15218661],\n",
       "       [-2.63925243,  1.3347803 ,  5.28031779, -2.40303064,  1.92732679],\n",
       "       [-0.84915595,  1.65147829, -2.40303064,  6.80356044,  2.89277884],\n",
       "       [-4.35102631, -0.15218661,  1.92732679,  2.89277884,  5.23756084]])"
      ]
     },
     "execution_count": 93,
     "metadata": {},
     "output_type": "execute_result"
    }
   ],
   "source": [
    "mat"
   ]
  },
  {
   "cell_type": "code",
   "execution_count": 95,
   "metadata": {},
   "outputs": [
    {
     "data": {
      "text/plain": [
       "array([[-0.72141573,  1.22784529,  1.4125747 ,  0.4485999 ,  1.22858618],\n",
       "       [ 0.70444694,  1.40200505, -0.22981934,  0.86722069, -0.66277314],\n",
       "       [ 0.78092892,  0.22357581, -1.67151343,  1.85861718,  0.07297757],\n",
       "       [ 0.72839496, -0.28106894, -0.63054252, -0.84206828, -0.77894039],\n",
       "       [-1.52034941, -0.59088454, -0.20147598,  1.29873402,  1.6360913 ]])"
      ]
     },
     "execution_count": 95,
     "metadata": {},
     "output_type": "execute_result"
    }
   ],
   "source": [
    "X"
   ]
  },
  {
   "cell_type": "code",
   "execution_count": 96,
   "metadata": {},
   "outputs": [
    {
     "data": {
      "text/plain": [
       "array([[-0.72141573,  0.70444694,  0.78092892,  0.72839496, -1.52034941],\n",
       "       [ 1.22784529,  1.40200505,  0.22357581, -0.28106894, -0.59088454],\n",
       "       [ 1.4125747 , -0.22981934, -1.67151343, -0.63054252, -0.20147598],\n",
       "       [ 0.4485999 ,  0.86722069,  1.85861718, -0.84206828,  1.29873402],\n",
       "       [ 1.22858618, -0.66277314,  0.07297757, -0.77894039,  1.6360913 ]])"
      ]
     },
     "execution_count": 96,
     "metadata": {},
     "output_type": "execute_result"
    }
   ],
   "source": [
    "X.T"
   ]
  },
  {
   "cell_type": "code",
   "execution_count": 98,
   "metadata": {},
   "outputs": [
    {
     "data": {
      "text/plain": [
       "array([[ 1.00000000e+00,  9.60885639e-16, -7.49372645e-16,\n",
       "         1.35603511e-15,  3.50053313e-16],\n",
       "       [-2.67703051e-15,  1.00000000e+00, -1.47743734e-15,\n",
       "        -7.45253090e-16,  6.99478836e-17],\n",
       "       [-7.51938567e-16,  1.58109549e-15,  1.00000000e+00,\n",
       "        -1.81477614e-15, -1.31258162e-15],\n",
       "       [-3.91796829e-15, -5.11433495e-15,  3.34631258e-15,\n",
       "         1.00000000e+00, -6.63616358e-16],\n",
       "       [-2.64143249e-15, -5.62277159e-16, -2.37746528e-15,\n",
       "        -1.65620472e-15,  1.00000000e+00]])"
      ]
     },
     "execution_count": 98,
     "metadata": {},
     "output_type": "execute_result"
    }
   ],
   "source": [
    "mat.dot(inv(mat))"
   ]
  },
  {
   "cell_type": "code",
   "execution_count": 100,
   "metadata": {},
   "outputs": [],
   "source": [
    "q,r =qr(mat)"
   ]
  },
  {
   "cell_type": "code",
   "execution_count": 101,
   "metadata": {},
   "outputs": [
    {
     "data": {
      "text/plain": [
       "array([[-6.89399682, -0.56641803,  4.46478519,  2.06180676,  7.24142064],\n",
       "       [ 0.        , -4.55692589, -1.76194687, -3.17271986, -1.2798895 ],\n",
       "       [ 0.        ,  0.        , -4.80410544,  7.03831139,  2.07868268],\n",
       "       [ 0.        ,  0.        ,  0.        , -0.15678373, -0.14469406],\n",
       "       [ 0.        ,  0.        ,  0.        ,  0.        ,  0.22637181]])"
      ]
     },
     "execution_count": 101,
     "metadata": {},
     "output_type": "execute_result"
    }
   ],
   "source": [
    "r"
   ]
  },
  {
   "cell_type": "code",
   "execution_count": 102,
   "metadata": {},
   "outputs": [
    {
     "data": {
      "text/plain": [
       "array([[-0.64818099, -0.13231034, -0.00449879, -0.63238837,  0.40301377],\n",
       "       [-0.14071225, -0.84961897, -0.09701011,  0.45422979,  0.20642675],\n",
       "       [ 0.38283343, -0.34049798, -0.61845217, -0.51150107, -0.30558675],\n",
       "       [ 0.12317324, -0.37772083,  0.75320927, -0.3181277 , -0.4166844 ],\n",
       "       [ 0.63113262, -0.04505193,  0.2018948 , -0.17584559,  0.7266077 ]])"
      ]
     },
     "execution_count": 102,
     "metadata": {},
     "output_type": "execute_result"
    }
   ],
   "source": [
    "q"
   ]
  },
  {
   "cell_type": "code",
   "execution_count": 104,
   "metadata": {},
   "outputs": [],
   "source": [
    "samples = np.random.normal(size=(4,4))"
   ]
  },
  {
   "cell_type": "code",
   "execution_count": 106,
   "metadata": {},
   "outputs": [
    {
     "data": {
      "text/plain": [
       "array([[ 1.24272803, -0.62903989, -0.49463824,  0.36860869],\n",
       "       [-0.30689206, -0.11270818, -0.11316821,  0.06238332],\n",
       "       [ 0.44302518,  0.67365493, -0.28239995,  0.28511133],\n",
       "       [-0.51596918,  1.00953778, -0.37341299, -0.39589307]])"
      ]
     },
     "execution_count": 106,
     "metadata": {},
     "output_type": "execute_result"
    }
   ],
   "source": [
    "samples"
   ]
  },
  {
   "cell_type": "code",
   "execution_count": 107,
   "metadata": {},
   "outputs": [],
   "source": [
    "from random import normalvariate"
   ]
  },
  {
   "cell_type": "code",
   "execution_count": 108,
   "metadata": {},
   "outputs": [],
   "source": [
    "N = 1000000"
   ]
  },
  {
   "cell_type": "code",
   "execution_count": 109,
   "metadata": {},
   "outputs": [
    {
     "name": "stdout",
     "output_type": "stream",
     "text": [
      "648 ms ± 9.54 ms per loop (mean ± std. dev. of 7 runs, 1 loop each)\n"
     ]
    }
   ],
   "source": [
    "%timeit samples = [normalvariate(0,1) for _ in range(N)]"
   ]
  },
  {
   "cell_type": "code",
   "execution_count": 110,
   "metadata": {},
   "outputs": [
    {
     "name": "stdout",
     "output_type": "stream",
     "text": [
      "26.2 ms ± 768 µs per loop (mean ± std. dev. of 7 runs, 10 loops each)\n"
     ]
    }
   ],
   "source": [
    "%timeit np.random.normal(size=N)"
   ]
  },
  {
   "cell_type": "code",
   "execution_count": 111,
   "metadata": {},
   "outputs": [],
   "source": [
    "import random\n",
    "position = 0\n",
    "walk = [position]\n",
    "steps = 1000\n",
    "for i in range(steps):\n",
    "    step = 1 if random.randint(0,1) else -1\n",
    "    position += step\n",
    "    walk.append(position)"
   ]
  },
  {
   "cell_type": "code",
   "execution_count": 113,
   "metadata": {},
   "outputs": [
    {
     "data": {
      "text/plain": [
       "[<matplotlib.lines.Line2D at 0x121f2edd0>]"
      ]
     },
     "execution_count": 113,
     "metadata": {},
     "output_type": "execute_result"
    },
    {
     "data": {
      "image/png": "[encoded data removed]",
      "text/plain": [
       "<Figure size 432x288 with 1 Axes>"
      ]
     },
     "metadata": {
      "needs_background": "light"
     },
     "output_type": "display_data"
    }
   ],
   "source": [
    "plt.plot(walk[:100])"
   ]
  },
  {
   "cell_type": "code",
   "execution_count": 114,
   "metadata": {},
   "outputs": [],
   "source": [
    "nsteps=1000"
   ]
  },
  {
   "cell_type": "code",
   "execution_count": 115,
   "metadata": {},
   "outputs": [],
   "source": [
    "draws = np.random.randint(0,2,size=nsteps)"
   ]
  },
  {
   "cell_type": "code",
   "execution_count": 116,
   "metadata": {},
   "outputs": [],
   "source": [
    "steps = np.where(draws > 0,1,-1)"
   ]
  },
  {
   "cell_type": "code",
   "execution_count": 117,
   "metadata": {},
   "outputs": [],
   "source": [
    "walk = steps.cumsum()"
   ]
  },
  {
   "cell_type": "code",
   "execution_count": 118,
   "metadata": {},
   "outputs": [
    {
     "data": {
      "text/plain": [
       "-24"
      ]
     },
     "execution_count": 118,
     "metadata": {},
     "output_type": "execute_result"
    }
   ],
   "source": [
    "walk.min()"
   ]
  },
  {
   "cell_type": "code",
   "execution_count": 119,
   "metadata": {},
   "outputs": [
    {
     "data": {
      "text/plain": [
       "24"
      ]
     },
     "execution_count": 119,
     "metadata": {},
     "output_type": "execute_result"
    }
   ],
   "source": [
    "walk.max()"
   ]
  },
  {
   "cell_type": "code",
   "execution_count": 120,
   "metadata": {},
   "outputs": [
    {
     "data": {
      "text/plain": [
       "47"
      ]
     },
     "execution_count": 120,
     "metadata": {},
     "output_type": "execute_result"
    }
   ],
   "source": [
    "(np.abs(walk) >= 10).argmax()"
   ]
  },
  {
   "cell_type": "code",
   "execution_count": 121,
   "metadata": {},
   "outputs": [],
   "source": [
    "nwalks = 5000"
   ]
  },
  {
   "cell_type": "code",
   "execution_count": 122,
   "metadata": {},
   "outputs": [],
   "source": [
    "nsteps = 1000"
   ]
  },
  {
   "cell_type": "code",
   "execution_count": 124,
   "metadata": {},
   "outputs": [],
   "source": [
    "draws = np.random.randint(0,2,size=(nwalks,nsteps))"
   ]
  },
  {
   "cell_type": "code",
   "execution_count": 125,
   "metadata": {},
   "outputs": [],
   "source": [
    "steps = np.where(draws >0,1,-1)"
   ]
  },
  {
   "cell_type": "code",
   "execution_count": 126,
   "metadata": {},
   "outputs": [],
   "source": [
    "walks =steps.cumsum(1)"
   ]
  },
  {
   "cell_type": "code",
   "execution_count": 127,
   "metadata": {},
   "outputs": [
    {
     "data": {
      "text/plain": [
       "array([[  1,   2,   3, ...,  -2,  -3,  -2],\n",
       "       [  1,   2,   1, ..., -16, -17, -18],\n",
       "       [  1,   2,   3, ...,  12,  11,  12],\n",
       "       ...,\n",
       "       [  1,   0,   1, ...,  58,  57,  56],\n",
       "       [ -1,   0,   1, ...,  36,  35,  36],\n",
       "       [  1,   2,   3, ..., -12, -13, -14]])"
      ]
     },
     "execution_count": 127,
     "metadata": {},
     "output_type": "execute_result"
    }
   ],
   "source": [
    "walks"
   ]
  },
  {
   "cell_type": "code",
   "execution_count": 128,
   "metadata": {},
   "outputs": [
    {
     "data": {
      "text/plain": [
       "120"
      ]
     },
     "execution_count": 128,
     "metadata": {},
     "output_type": "execute_result"
    }
   ],
   "source": [
    "walks.max()"
   ]
  },
  {
   "cell_type": "code",
   "execution_count": 129,
   "metadata": {},
   "outputs": [
    {
     "data": {
      "text/plain": [
       "-115"
      ]
     },
     "execution_count": 129,
     "metadata": {},
     "output_type": "execute_result"
    }
   ],
   "source": [
    "walks.min()"
   ]
  },
  {
   "cell_type": "code",
   "execution_count": 130,
   "metadata": {},
   "outputs": [],
   "source": [
    "hits30= (np.abs(walks) >=30).any(1)"
   ]
  },
  {
   "cell_type": "code",
   "execution_count": 131,
   "metadata": {},
   "outputs": [
    {
     "data": {
      "text/plain": [
       "array([ True, False, False, ...,  True,  True,  True])"
      ]
     },
     "execution_count": 131,
     "metadata": {},
     "output_type": "execute_result"
    }
   ],
   "source": [
    "hits30"
   ]
  },
  {
   "cell_type": "code",
   "execution_count": 132,
   "metadata": {},
   "outputs": [
    {
     "data": {
      "text/plain": [
       "<function ndarray.sum>"
      ]
     },
     "execution_count": 132,
     "metadata": {},
     "output_type": "execute_result"
    }
   ],
   "source": [
    "hits30.sum"
   ]
  },
  {
   "cell_type": "code",
   "execution_count": 133,
   "metadata": {},
   "outputs": [],
   "source": [
    "crossing_times = (np.abs(walks[hits30]) >=30).argmax(1)"
   ]
  },
  {
   "cell_type": "code",
   "execution_count": 134,
   "metadata": {},
   "outputs": [
    {
     "data": {
      "text/plain": [
       "513.5131540053208"
      ]
     },
     "execution_count": 134,
     "metadata": {},
     "output_type": "execute_result"
    }
   ],
   "source": [
    "crossing_times.mean()"
   ]
  },
  {
   "cell_type": "code",
   "execution_count": null,
   "metadata": {},
   "outputs": [],
   "source": []
  }
 ],
 "metadata": {
  "kernelspec": {
   "display_name": "Python 3",
   "language": "python",
   "name": "python3"
  },
  "language_info": {
   "codemirror_mode": {
    "name": "ipython",
    "version": 3
   },
   "file_extension": ".py",
   "mimetype": "text/x-python",
   "name": "python",
   "nbconvert_exporter": "python",
   "pygments_lexer": "ipython3",
   "version": "3.7.4"
  }
 },
 "nbformat": 4,
 "nbformat_minor": 2
}
